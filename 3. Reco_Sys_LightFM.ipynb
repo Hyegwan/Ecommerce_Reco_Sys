{
  "nbformat": 4,
  "nbformat_minor": 0,
  "metadata": {
    "colab": {
      "provenance": [],
      "machine_shape": "hm",
      "collapsed_sections": [
        "Yp8fZJvty1k-",
        "KPSw9WiJaxxn",
        "kGGw1R-Ty5bC",
        "HHDq2tjxPt1j",
        "Q7eKMAqOp4jP",
        "xheGRB7Ep60a",
        "hnX53w_JpvDZ"
      ],
      "gpuClass": "premium"
    },
    "kernelspec": {
      "name": "python3",
      "display_name": "Python 3"
    },
    "language_info": {
      "name": "python"
    },
    "gpuClass": "premium"
  },
  "cells": [
    {
      "cell_type": "markdown",
      "source": [
        "# 데이터 불러오기"
      ],
      "metadata": {
        "id": "Yp8fZJvty1k-"
      }
    },
    {
      "cell_type": "code",
      "source": [
        "# from google.colab import drive\n",
        "# drive.mount('/content/drive')"
      ],
      "metadata": {
        "colab": {
          "base_uri": "https://localhost:8080/"
        },
        "id": "biMo3vKmgx2U",
        "outputId": "1e307ae2-81a4-48e5-eb91-86a660e0ac92"
      },
      "execution_count": null,
      "outputs": [
        {
          "output_type": "stream",
          "name": "stdout",
          "text": [
            "Mounted at /content/drive\n"
          ]
        }
      ]
    },
    {
      "cell_type": "code",
      "execution_count": null,
      "metadata": {
        "id": "GoEddUY0yFLy"
      },
      "outputs": [],
      "source": [
        "# !pip install fastparquet\n",
        "\n",
        "import pandas as pd\n",
        "import numpy as np\n",
        "import datetime as dt\n",
        "\n",
        "path1 = '/content/drive/MyDrive/MyCP2/ItemsUsers.parquet'\n",
        "path2 = '/content/drive/MyDrive/MyCP2/Items.parquet'\n",
        "path3 = '/content/drive/MyDrive/MyCP2/Users.parquet'\n",
        "\n",
        "data1 = pd.read_parquet(path1, engine='fastparquet')\n",
        "data2 = pd.read_parquet(path2, engine='fastparquet')\n",
        "data3 = pd.read_parquet(path3, engine='fastparquet')\n",
        "\n",
        "df = data1.copy()\n",
        "df_items = data2.copy()\n",
        "df_users = data3.copy()"
      ]
    },
    {
      "cell_type": "markdown",
      "source": [
        "# 추가 EDA"
      ],
      "metadata": {
        "id": "KPSw9WiJaxxn"
      }
    },
    {
      "cell_type": "code",
      "source": [
        "## items_features, users_features 컬럼 수정\n",
        "\n",
        "# items_features: (items_id_num, [category])\n",
        "items = df_items[['category']].apply(\n",
        "    lambda x: ','.join(x.map(str)), axis=1)\n",
        "items = items.str.split(',')\n",
        "items = list(zip(df_items['items_id_num'], items))\n",
        "\n",
        "df_items['items'] = items\n",
        "\n",
        "# users_features: (users_id_num, [events])\n",
        "users = df_users[['events']].apply(\n",
        "    lambda x: ','.join(x.map(str)), axis=1)\n",
        "users = users.str.split(',')\n",
        "users = list(zip(df_users['users_id_num'], users))\n",
        "\n",
        "df_users['users'] = users\n",
        "\n",
        "# 기존 features 컬럼 삭제\n",
        "df_users.drop(['users_features'], axis=1, inplace=True)\n",
        "df_items.drop(['items_features'], axis=1, inplace=True)\n",
        "\n",
        "# 새 features 컬럼 이름 수정\n",
        "df_users.rename(columns={'users':'users_features'}, inplace=True)\n",
        "df_items.rename(columns={'items':'items_features'}, inplace=True)"
      ],
      "metadata": {
        "id": "O5-fteZOaz7n"
      },
      "execution_count": null,
      "outputs": []
    },
    {
      "cell_type": "code",
      "source": [
        "# 수정한 파일이 파케이로 저장이 안 되어서 피클로 저장\n",
        "path='/content/drive/MyDrive/MyCP2/'\n",
        "\n",
        "df_items.to_pickle(path + 'df_items.pkl')\n",
        "df_users.to_pickle(path + 'df_users.pkl')"
      ],
      "metadata": {
        "id": "p1UrX_uPUzOP"
      },
      "execution_count": null,
      "outputs": []
    },
    {
      "cell_type": "markdown",
      "source": [
        "# 데이터 불러오기2"
      ],
      "metadata": {
        "id": "RW132jrUcUTs"
      }
    },
    {
      "cell_type": "code",
      "source": [
        "# from google.colab import drive\n",
        "# drive.mount('/content/drive')"
      ],
      "metadata": {
        "id": "y-8qwammcdY_"
      },
      "execution_count": 2,
      "outputs": []
    },
    {
      "cell_type": "code",
      "source": [
        "# !pip install fastparquet"
      ],
      "metadata": {
        "id": "Ga8twgUANMo1"
      },
      "execution_count": 1,
      "outputs": []
    },
    {
      "cell_type": "code",
      "source": [
        "import pandas as pd\n",
        "import numpy as np\n",
        "import datetime as dt\n",
        "\n",
        "path1 = '/content/drive/MyDrive/MyCP2/ItemsUsers.parquet'\n",
        "path2 = '/content/drive/MyDrive/MyCP2/df_items.pkl'\n",
        "path3 = '/content/drive/MyDrive/MyCP2/df_users.pkl'\n",
        "\n",
        "df = pd.read_parquet(path1, engine='fastparquet')\n",
        "df_items = pd.read_pickle(path2)\n",
        "df_users = pd.read_pickle(path3)"
      ],
      "metadata": {
        "id": "Or5wdQHBcau3"
      },
      "execution_count": null,
      "outputs": []
    },
    {
      "cell_type": "markdown",
      "source": [
        "# 데이터 확인"
      ],
      "metadata": {
        "id": "kGGw1R-Ty5bC"
      }
    },
    {
      "cell_type": "code",
      "source": [
        "df.head(1)"
      ],
      "metadata": {
        "id": "ht7CYKoHr-Vl",
        "colab": {
          "base_uri": "https://localhost:8080/",
          "height": 162
        },
        "outputId": "ea3f32db-c617-4752-f359-491f1bb6ce3f"
      },
      "execution_count": null,
      "outputs": [
        {
          "output_type": "execute_result",
          "data": {
            "text/plain": [
              "                 event_time event_type  product_id category_id   brand  \\\n",
              "0 2019-10-02 00:00:00+04:00       view     6200670  -813694761  luxell   \n",
              "\n",
              "       price    user_id main_category sub_category sub_sub_category  \\\n",
              "0  39.369999  516364071    appliances  environment       air_heater   \n",
              "\n",
              "   users_id_num  items_id_num items_users_id_tuple  \n",
              "0             0             0               [0, 0]  "
            ],
            "text/html": [
              "\n",
              "  <div id=\"df-f207581c-c0d5-493c-980a-5bd52d71f73a\">\n",
              "    <div class=\"colab-df-container\">\n",
              "      <div>\n",
              "<style scoped>\n",
              "    .dataframe tbody tr th:only-of-type {\n",
              "        vertical-align: middle;\n",
              "    }\n",
              "\n",
              "    .dataframe tbody tr th {\n",
              "        vertical-align: top;\n",
              "    }\n",
              "\n",
              "    .dataframe thead th {\n",
              "        text-align: right;\n",
              "    }\n",
              "</style>\n",
              "<table border=\"1\" class=\"dataframe\">\n",
              "  <thead>\n",
              "    <tr style=\"text-align: right;\">\n",
              "      <th></th>\n",
              "      <th>event_time</th>\n",
              "      <th>event_type</th>\n",
              "      <th>product_id</th>\n",
              "      <th>category_id</th>\n",
              "      <th>brand</th>\n",
              "      <th>price</th>\n",
              "      <th>user_id</th>\n",
              "      <th>main_category</th>\n",
              "      <th>sub_category</th>\n",
              "      <th>sub_sub_category</th>\n",
              "      <th>users_id_num</th>\n",
              "      <th>items_id_num</th>\n",
              "      <th>items_users_id_tuple</th>\n",
              "    </tr>\n",
              "  </thead>\n",
              "  <tbody>\n",
              "    <tr>\n",
              "      <th>0</th>\n",
              "      <td>2019-10-02 00:00:00+04:00</td>\n",
              "      <td>view</td>\n",
              "      <td>6200670</td>\n",
              "      <td>-813694761</td>\n",
              "      <td>luxell</td>\n",
              "      <td>39.369999</td>\n",
              "      <td>516364071</td>\n",
              "      <td>appliances</td>\n",
              "      <td>environment</td>\n",
              "      <td>air_heater</td>\n",
              "      <td>0</td>\n",
              "      <td>0</td>\n",
              "      <td>[0, 0]</td>\n",
              "    </tr>\n",
              "  </tbody>\n",
              "</table>\n",
              "</div>\n",
              "      <button class=\"colab-df-convert\" onclick=\"convertToInteractive('df-f207581c-c0d5-493c-980a-5bd52d71f73a')\"\n",
              "              title=\"Convert this dataframe to an interactive table.\"\n",
              "              style=\"display:none;\">\n",
              "        \n",
              "  <svg xmlns=\"http://www.w3.org/2000/svg\" height=\"24px\"viewBox=\"0 0 24 24\"\n",
              "       width=\"24px\">\n",
              "    <path d=\"M0 0h24v24H0V0z\" fill=\"none\"/>\n",
              "    <path d=\"M18.56 5.44l.94 2.06.94-2.06 2.06-.94-2.06-.94-.94-2.06-.94 2.06-2.06.94zm-11 1L8.5 8.5l.94-2.06 2.06-.94-2.06-.94L8.5 2.5l-.94 2.06-2.06.94zm10 10l.94 2.06.94-2.06 2.06-.94-2.06-.94-.94-2.06-.94 2.06-2.06.94z\"/><path d=\"M17.41 7.96l-1.37-1.37c-.4-.4-.92-.59-1.43-.59-.52 0-1.04.2-1.43.59L10.3 9.45l-7.72 7.72c-.78.78-.78 2.05 0 2.83L4 21.41c.39.39.9.59 1.41.59.51 0 1.02-.2 1.41-.59l7.78-7.78 2.81-2.81c.8-.78.8-2.07 0-2.86zM5.41 20L4 18.59l7.72-7.72 1.47 1.35L5.41 20z\"/>\n",
              "  </svg>\n",
              "      </button>\n",
              "      \n",
              "  <style>\n",
              "    .colab-df-container {\n",
              "      display:flex;\n",
              "      flex-wrap:wrap;\n",
              "      gap: 12px;\n",
              "    }\n",
              "\n",
              "    .colab-df-convert {\n",
              "      background-color: #E8F0FE;\n",
              "      border: none;\n",
              "      border-radius: 50%;\n",
              "      cursor: pointer;\n",
              "      display: none;\n",
              "      fill: #1967D2;\n",
              "      height: 32px;\n",
              "      padding: 0 0 0 0;\n",
              "      width: 32px;\n",
              "    }\n",
              "\n",
              "    .colab-df-convert:hover {\n",
              "      background-color: #E2EBFA;\n",
              "      box-shadow: 0px 1px 2px rgba(60, 64, 67, 0.3), 0px 1px 3px 1px rgba(60, 64, 67, 0.15);\n",
              "      fill: #174EA6;\n",
              "    }\n",
              "\n",
              "    [theme=dark] .colab-df-convert {\n",
              "      background-color: #3B4455;\n",
              "      fill: #D2E3FC;\n",
              "    }\n",
              "\n",
              "    [theme=dark] .colab-df-convert:hover {\n",
              "      background-color: #434B5C;\n",
              "      box-shadow: 0px 1px 3px 1px rgba(0, 0, 0, 0.15);\n",
              "      filter: drop-shadow(0px 1px 2px rgba(0, 0, 0, 0.3));\n",
              "      fill: #FFFFFF;\n",
              "    }\n",
              "  </style>\n",
              "\n",
              "      <script>\n",
              "        const buttonEl =\n",
              "          document.querySelector('#df-f207581c-c0d5-493c-980a-5bd52d71f73a button.colab-df-convert');\n",
              "        buttonEl.style.display =\n",
              "          google.colab.kernel.accessAllowed ? 'block' : 'none';\n",
              "\n",
              "        async function convertToInteractive(key) {\n",
              "          const element = document.querySelector('#df-f207581c-c0d5-493c-980a-5bd52d71f73a');\n",
              "          const dataTable =\n",
              "            await google.colab.kernel.invokeFunction('convertToInteractive',\n",
              "                                                     [key], {});\n",
              "          if (!dataTable) return;\n",
              "\n",
              "          const docLinkHtml = 'Like what you see? Visit the ' +\n",
              "            '<a target=\"_blank\" href=https://colab.research.google.com/notebooks/data_table.ipynb>data table notebook</a>'\n",
              "            + ' to learn more about interactive tables.';\n",
              "          element.innerHTML = '';\n",
              "          dataTable['output_type'] = 'display_data';\n",
              "          await google.colab.output.renderOutput(dataTable, element);\n",
              "          const docLink = document.createElement('div');\n",
              "          docLink.innerHTML = docLinkHtml;\n",
              "          element.appendChild(docLink);\n",
              "        }\n",
              "      </script>\n",
              "    </div>\n",
              "  </div>\n",
              "  "
            ]
          },
          "metadata": {},
          "execution_count": 4
        }
      ]
    },
    {
      "cell_type": "code",
      "source": [
        "df_items.head(1)"
      ],
      "metadata": {
        "colab": {
          "base_uri": "https://localhost:8080/",
          "height": 81
        },
        "id": "94Xojcg2Many",
        "outputId": "e075d71e-818a-4602-d8af-703b347f1871"
      },
      "execution_count": null,
      "outputs": [
        {
          "output_type": "execute_result",
          "data": {
            "text/plain": [
              "   product_id  view_num  cart_num  purchase_num  items_id_num  \\\n",
              "0     6200670       279         0             2             0   \n",
              "\n",
              "                            category  \\\n",
              "0  appliances,environment,air_heater   \n",
              "\n",
              "                               items_features  \n",
              "0  (0, [appliances, environment, air_heater])  "
            ],
            "text/html": [
              "\n",
              "  <div id=\"df-4a94ea77-47b1-4580-a679-623a8c00d4bb\">\n",
              "    <div class=\"colab-df-container\">\n",
              "      <div>\n",
              "<style scoped>\n",
              "    .dataframe tbody tr th:only-of-type {\n",
              "        vertical-align: middle;\n",
              "    }\n",
              "\n",
              "    .dataframe tbody tr th {\n",
              "        vertical-align: top;\n",
              "    }\n",
              "\n",
              "    .dataframe thead th {\n",
              "        text-align: right;\n",
              "    }\n",
              "</style>\n",
              "<table border=\"1\" class=\"dataframe\">\n",
              "  <thead>\n",
              "    <tr style=\"text-align: right;\">\n",
              "      <th></th>\n",
              "      <th>product_id</th>\n",
              "      <th>view_num</th>\n",
              "      <th>cart_num</th>\n",
              "      <th>purchase_num</th>\n",
              "      <th>items_id_num</th>\n",
              "      <th>category</th>\n",
              "      <th>items_features</th>\n",
              "    </tr>\n",
              "  </thead>\n",
              "  <tbody>\n",
              "    <tr>\n",
              "      <th>0</th>\n",
              "      <td>6200670</td>\n",
              "      <td>279</td>\n",
              "      <td>0</td>\n",
              "      <td>2</td>\n",
              "      <td>0</td>\n",
              "      <td>appliances,environment,air_heater</td>\n",
              "      <td>(0, [appliances, environment, air_heater])</td>\n",
              "    </tr>\n",
              "  </tbody>\n",
              "</table>\n",
              "</div>\n",
              "      <button class=\"colab-df-convert\" onclick=\"convertToInteractive('df-4a94ea77-47b1-4580-a679-623a8c00d4bb')\"\n",
              "              title=\"Convert this dataframe to an interactive table.\"\n",
              "              style=\"display:none;\">\n",
              "        \n",
              "  <svg xmlns=\"http://www.w3.org/2000/svg\" height=\"24px\"viewBox=\"0 0 24 24\"\n",
              "       width=\"24px\">\n",
              "    <path d=\"M0 0h24v24H0V0z\" fill=\"none\"/>\n",
              "    <path d=\"M18.56 5.44l.94 2.06.94-2.06 2.06-.94-2.06-.94-.94-2.06-.94 2.06-2.06.94zm-11 1L8.5 8.5l.94-2.06 2.06-.94-2.06-.94L8.5 2.5l-.94 2.06-2.06.94zm10 10l.94 2.06.94-2.06 2.06-.94-2.06-.94-.94-2.06-.94 2.06-2.06.94z\"/><path d=\"M17.41 7.96l-1.37-1.37c-.4-.4-.92-.59-1.43-.59-.52 0-1.04.2-1.43.59L10.3 9.45l-7.72 7.72c-.78.78-.78 2.05 0 2.83L4 21.41c.39.39.9.59 1.41.59.51 0 1.02-.2 1.41-.59l7.78-7.78 2.81-2.81c.8-.78.8-2.07 0-2.86zM5.41 20L4 18.59l7.72-7.72 1.47 1.35L5.41 20z\"/>\n",
              "  </svg>\n",
              "      </button>\n",
              "      \n",
              "  <style>\n",
              "    .colab-df-container {\n",
              "      display:flex;\n",
              "      flex-wrap:wrap;\n",
              "      gap: 12px;\n",
              "    }\n",
              "\n",
              "    .colab-df-convert {\n",
              "      background-color: #E8F0FE;\n",
              "      border: none;\n",
              "      border-radius: 50%;\n",
              "      cursor: pointer;\n",
              "      display: none;\n",
              "      fill: #1967D2;\n",
              "      height: 32px;\n",
              "      padding: 0 0 0 0;\n",
              "      width: 32px;\n",
              "    }\n",
              "\n",
              "    .colab-df-convert:hover {\n",
              "      background-color: #E2EBFA;\n",
              "      box-shadow: 0px 1px 2px rgba(60, 64, 67, 0.3), 0px 1px 3px 1px rgba(60, 64, 67, 0.15);\n",
              "      fill: #174EA6;\n",
              "    }\n",
              "\n",
              "    [theme=dark] .colab-df-convert {\n",
              "      background-color: #3B4455;\n",
              "      fill: #D2E3FC;\n",
              "    }\n",
              "\n",
              "    [theme=dark] .colab-df-convert:hover {\n",
              "      background-color: #434B5C;\n",
              "      box-shadow: 0px 1px 3px 1px rgba(0, 0, 0, 0.15);\n",
              "      filter: drop-shadow(0px 1px 2px rgba(0, 0, 0, 0.3));\n",
              "      fill: #FFFFFF;\n",
              "    }\n",
              "  </style>\n",
              "\n",
              "      <script>\n",
              "        const buttonEl =\n",
              "          document.querySelector('#df-4a94ea77-47b1-4580-a679-623a8c00d4bb button.colab-df-convert');\n",
              "        buttonEl.style.display =\n",
              "          google.colab.kernel.accessAllowed ? 'block' : 'none';\n",
              "\n",
              "        async function convertToInteractive(key) {\n",
              "          const element = document.querySelector('#df-4a94ea77-47b1-4580-a679-623a8c00d4bb');\n",
              "          const dataTable =\n",
              "            await google.colab.kernel.invokeFunction('convertToInteractive',\n",
              "                                                     [key], {});\n",
              "          if (!dataTable) return;\n",
              "\n",
              "          const docLinkHtml = 'Like what you see? Visit the ' +\n",
              "            '<a target=\"_blank\" href=https://colab.research.google.com/notebooks/data_table.ipynb>data table notebook</a>'\n",
              "            + ' to learn more about interactive tables.';\n",
              "          element.innerHTML = '';\n",
              "          dataTable['output_type'] = 'display_data';\n",
              "          await google.colab.output.renderOutput(dataTable, element);\n",
              "          const docLink = document.createElement('div');\n",
              "          docLink.innerHTML = docLinkHtml;\n",
              "          element.appendChild(docLink);\n",
              "        }\n",
              "      </script>\n",
              "    </div>\n",
              "  </div>\n",
              "  "
            ]
          },
          "metadata": {},
          "execution_count": 8
        }
      ]
    },
    {
      "cell_type": "code",
      "source": [
        "df_users.head(1)"
      ],
      "metadata": {
        "colab": {
          "base_uri": "https://localhost:8080/",
          "height": 81
        },
        "id": "fjqt8iJJMd8F",
        "outputId": "54e90939-4bbf-41f9-ed6c-3f0fa38c6d33"
      },
      "execution_count": null,
      "outputs": [
        {
          "output_type": "execute_result",
          "data": {
            "text/plain": [
              "    user_id  product_id events  users_id_num users_features\n",
              "0  64078358    10600284   view             0    (0, [view])"
            ],
            "text/html": [
              "\n",
              "  <div id=\"df-3a6f87da-1184-4b14-8dba-cb8c9e0bb326\">\n",
              "    <div class=\"colab-df-container\">\n",
              "      <div>\n",
              "<style scoped>\n",
              "    .dataframe tbody tr th:only-of-type {\n",
              "        vertical-align: middle;\n",
              "    }\n",
              "\n",
              "    .dataframe tbody tr th {\n",
              "        vertical-align: top;\n",
              "    }\n",
              "\n",
              "    .dataframe thead th {\n",
              "        text-align: right;\n",
              "    }\n",
              "</style>\n",
              "<table border=\"1\" class=\"dataframe\">\n",
              "  <thead>\n",
              "    <tr style=\"text-align: right;\">\n",
              "      <th></th>\n",
              "      <th>user_id</th>\n",
              "      <th>product_id</th>\n",
              "      <th>events</th>\n",
              "      <th>users_id_num</th>\n",
              "      <th>users_features</th>\n",
              "    </tr>\n",
              "  </thead>\n",
              "  <tbody>\n",
              "    <tr>\n",
              "      <th>0</th>\n",
              "      <td>64078358</td>\n",
              "      <td>10600284</td>\n",
              "      <td>view</td>\n",
              "      <td>0</td>\n",
              "      <td>(0, [view])</td>\n",
              "    </tr>\n",
              "  </tbody>\n",
              "</table>\n",
              "</div>\n",
              "      <button class=\"colab-df-convert\" onclick=\"convertToInteractive('df-3a6f87da-1184-4b14-8dba-cb8c9e0bb326')\"\n",
              "              title=\"Convert this dataframe to an interactive table.\"\n",
              "              style=\"display:none;\">\n",
              "        \n",
              "  <svg xmlns=\"http://www.w3.org/2000/svg\" height=\"24px\"viewBox=\"0 0 24 24\"\n",
              "       width=\"24px\">\n",
              "    <path d=\"M0 0h24v24H0V0z\" fill=\"none\"/>\n",
              "    <path d=\"M18.56 5.44l.94 2.06.94-2.06 2.06-.94-2.06-.94-.94-2.06-.94 2.06-2.06.94zm-11 1L8.5 8.5l.94-2.06 2.06-.94-2.06-.94L8.5 2.5l-.94 2.06-2.06.94zm10 10l.94 2.06.94-2.06 2.06-.94-2.06-.94-.94-2.06-.94 2.06-2.06.94z\"/><path d=\"M17.41 7.96l-1.37-1.37c-.4-.4-.92-.59-1.43-.59-.52 0-1.04.2-1.43.59L10.3 9.45l-7.72 7.72c-.78.78-.78 2.05 0 2.83L4 21.41c.39.39.9.59 1.41.59.51 0 1.02-.2 1.41-.59l7.78-7.78 2.81-2.81c.8-.78.8-2.07 0-2.86zM5.41 20L4 18.59l7.72-7.72 1.47 1.35L5.41 20z\"/>\n",
              "  </svg>\n",
              "      </button>\n",
              "      \n",
              "  <style>\n",
              "    .colab-df-container {\n",
              "      display:flex;\n",
              "      flex-wrap:wrap;\n",
              "      gap: 12px;\n",
              "    }\n",
              "\n",
              "    .colab-df-convert {\n",
              "      background-color: #E8F0FE;\n",
              "      border: none;\n",
              "      border-radius: 50%;\n",
              "      cursor: pointer;\n",
              "      display: none;\n",
              "      fill: #1967D2;\n",
              "      height: 32px;\n",
              "      padding: 0 0 0 0;\n",
              "      width: 32px;\n",
              "    }\n",
              "\n",
              "    .colab-df-convert:hover {\n",
              "      background-color: #E2EBFA;\n",
              "      box-shadow: 0px 1px 2px rgba(60, 64, 67, 0.3), 0px 1px 3px 1px rgba(60, 64, 67, 0.15);\n",
              "      fill: #174EA6;\n",
              "    }\n",
              "\n",
              "    [theme=dark] .colab-df-convert {\n",
              "      background-color: #3B4455;\n",
              "      fill: #D2E3FC;\n",
              "    }\n",
              "\n",
              "    [theme=dark] .colab-df-convert:hover {\n",
              "      background-color: #434B5C;\n",
              "      box-shadow: 0px 1px 3px 1px rgba(0, 0, 0, 0.15);\n",
              "      filter: drop-shadow(0px 1px 2px rgba(0, 0, 0, 0.3));\n",
              "      fill: #FFFFFF;\n",
              "    }\n",
              "  </style>\n",
              "\n",
              "      <script>\n",
              "        const buttonEl =\n",
              "          document.querySelector('#df-3a6f87da-1184-4b14-8dba-cb8c9e0bb326 button.colab-df-convert');\n",
              "        buttonEl.style.display =\n",
              "          google.colab.kernel.accessAllowed ? 'block' : 'none';\n",
              "\n",
              "        async function convertToInteractive(key) {\n",
              "          const element = document.querySelector('#df-3a6f87da-1184-4b14-8dba-cb8c9e0bb326');\n",
              "          const dataTable =\n",
              "            await google.colab.kernel.invokeFunction('convertToInteractive',\n",
              "                                                     [key], {});\n",
              "          if (!dataTable) return;\n",
              "\n",
              "          const docLinkHtml = 'Like what you see? Visit the ' +\n",
              "            '<a target=\"_blank\" href=https://colab.research.google.com/notebooks/data_table.ipynb>data table notebook</a>'\n",
              "            + ' to learn more about interactive tables.';\n",
              "          element.innerHTML = '';\n",
              "          dataTable['output_type'] = 'display_data';\n",
              "          await google.colab.output.renderOutput(dataTable, element);\n",
              "          const docLink = document.createElement('div');\n",
              "          docLink.innerHTML = docLinkHtml;\n",
              "          element.appendChild(docLink);\n",
              "        }\n",
              "      </script>\n",
              "    </div>\n",
              "  </div>\n",
              "  "
            ]
          },
          "metadata": {},
          "execution_count": 9
        }
      ]
    },
    {
      "cell_type": "markdown",
      "source": [
        "# Baseline"
      ],
      "metadata": {
        "id": "Q7eKMAqOp4jP"
      }
    },
    {
      "cell_type": "markdown",
      "source": [
        "# BestSeller"
      ],
      "metadata": {
        "id": "xheGRB7Ep60a"
      }
    },
    {
      "cell_type": "code",
      "source": [
        "def bestseller(n_items):\n",
        "    df_pur = df_items[['product_id', 'purchase_num']]\n",
        "    df_pur.set_index('product_id')\n",
        "    items_sort = df_pur.sort_values(by='purchase_num', ascending=False)[:n_items]\n",
        "    recom_items = df_items.loc[items_sort.index]\n",
        "    recommendations = recom_items[['product_id', 'view_num', 'cart_num', 'purchase_num', 'category']]\n",
        "\n",
        "    return recommendations"
      ],
      "metadata": {
        "id": "n9chci4Yvarb"
      },
      "execution_count": null,
      "outputs": []
    },
    {
      "cell_type": "code",
      "source": [
        "# 베스트셀러 top10\n",
        "bestseller(10)"
      ],
      "metadata": {
        "colab": {
          "base_uri": "https://localhost:8080/",
          "height": 363
        },
        "id": "4n8OQy9ANIHM",
        "outputId": "76ab8010-cb46-4b9b-84d9-2ebebf956c8d"
      },
      "execution_count": null,
      "outputs": [
        {
          "output_type": "execute_result",
          "data": {
            "text/plain": [
              "     product_id  view_num  cart_num  purchase_num  \\\n",
              "205     4804056    174185     22222         12027   \n",
              "51      5100816    159732     17011          7054   \n",
              "128     4804295    102301      7710          3452   \n",
              "676     4804055     73648      5627          3286   \n",
              "185     1801690     72926      5886          2684   \n",
              "61     12703015     54026      1287          1650   \n",
              "227     3700926     45260      3342          1636   \n",
              "37      1801766     70153      2544          1522   \n",
              "45      3600661     61126      2249          1451   \n",
              "486     4803977     40981      2695          1403   \n",
              "\n",
              "                          category  \n",
              "205    electronics,audio,headphone  \n",
              "51                     NaN,NaN,NaN  \n",
              "128    electronics,audio,headphone  \n",
              "676    electronics,audio,headphone  \n",
              "185           electronics,video,tv  \n",
              "61                     NaN,NaN,NaN  \n",
              "227  appliances,environment,vacuum  \n",
              "37            electronics,video,tv  \n",
              "45       appliances,kitchen,washer  \n",
              "486    electronics,audio,headphone  "
            ],
            "text/html": [
              "\n",
              "  <div id=\"df-d5a94721-a17c-4a34-a5a4-102fbde0300e\">\n",
              "    <div class=\"colab-df-container\">\n",
              "      <div>\n",
              "<style scoped>\n",
              "    .dataframe tbody tr th:only-of-type {\n",
              "        vertical-align: middle;\n",
              "    }\n",
              "\n",
              "    .dataframe tbody tr th {\n",
              "        vertical-align: top;\n",
              "    }\n",
              "\n",
              "    .dataframe thead th {\n",
              "        text-align: right;\n",
              "    }\n",
              "</style>\n",
              "<table border=\"1\" class=\"dataframe\">\n",
              "  <thead>\n",
              "    <tr style=\"text-align: right;\">\n",
              "      <th></th>\n",
              "      <th>product_id</th>\n",
              "      <th>view_num</th>\n",
              "      <th>cart_num</th>\n",
              "      <th>purchase_num</th>\n",
              "      <th>category</th>\n",
              "    </tr>\n",
              "  </thead>\n",
              "  <tbody>\n",
              "    <tr>\n",
              "      <th>205</th>\n",
              "      <td>4804056</td>\n",
              "      <td>174185</td>\n",
              "      <td>22222</td>\n",
              "      <td>12027</td>\n",
              "      <td>electronics,audio,headphone</td>\n",
              "    </tr>\n",
              "    <tr>\n",
              "      <th>51</th>\n",
              "      <td>5100816</td>\n",
              "      <td>159732</td>\n",
              "      <td>17011</td>\n",
              "      <td>7054</td>\n",
              "      <td>NaN,NaN,NaN</td>\n",
              "    </tr>\n",
              "    <tr>\n",
              "      <th>128</th>\n",
              "      <td>4804295</td>\n",
              "      <td>102301</td>\n",
              "      <td>7710</td>\n",
              "      <td>3452</td>\n",
              "      <td>electronics,audio,headphone</td>\n",
              "    </tr>\n",
              "    <tr>\n",
              "      <th>676</th>\n",
              "      <td>4804055</td>\n",
              "      <td>73648</td>\n",
              "      <td>5627</td>\n",
              "      <td>3286</td>\n",
              "      <td>electronics,audio,headphone</td>\n",
              "    </tr>\n",
              "    <tr>\n",
              "      <th>185</th>\n",
              "      <td>1801690</td>\n",
              "      <td>72926</td>\n",
              "      <td>5886</td>\n",
              "      <td>2684</td>\n",
              "      <td>electronics,video,tv</td>\n",
              "    </tr>\n",
              "    <tr>\n",
              "      <th>61</th>\n",
              "      <td>12703015</td>\n",
              "      <td>54026</td>\n",
              "      <td>1287</td>\n",
              "      <td>1650</td>\n",
              "      <td>NaN,NaN,NaN</td>\n",
              "    </tr>\n",
              "    <tr>\n",
              "      <th>227</th>\n",
              "      <td>3700926</td>\n",
              "      <td>45260</td>\n",
              "      <td>3342</td>\n",
              "      <td>1636</td>\n",
              "      <td>appliances,environment,vacuum</td>\n",
              "    </tr>\n",
              "    <tr>\n",
              "      <th>37</th>\n",
              "      <td>1801766</td>\n",
              "      <td>70153</td>\n",
              "      <td>2544</td>\n",
              "      <td>1522</td>\n",
              "      <td>electronics,video,tv</td>\n",
              "    </tr>\n",
              "    <tr>\n",
              "      <th>45</th>\n",
              "      <td>3600661</td>\n",
              "      <td>61126</td>\n",
              "      <td>2249</td>\n",
              "      <td>1451</td>\n",
              "      <td>appliances,kitchen,washer</td>\n",
              "    </tr>\n",
              "    <tr>\n",
              "      <th>486</th>\n",
              "      <td>4803977</td>\n",
              "      <td>40981</td>\n",
              "      <td>2695</td>\n",
              "      <td>1403</td>\n",
              "      <td>electronics,audio,headphone</td>\n",
              "    </tr>\n",
              "  </tbody>\n",
              "</table>\n",
              "</div>\n",
              "      <button class=\"colab-df-convert\" onclick=\"convertToInteractive('df-d5a94721-a17c-4a34-a5a4-102fbde0300e')\"\n",
              "              title=\"Convert this dataframe to an interactive table.\"\n",
              "              style=\"display:none;\">\n",
              "        \n",
              "  <svg xmlns=\"http://www.w3.org/2000/svg\" height=\"24px\"viewBox=\"0 0 24 24\"\n",
              "       width=\"24px\">\n",
              "    <path d=\"M0 0h24v24H0V0z\" fill=\"none\"/>\n",
              "    <path d=\"M18.56 5.44l.94 2.06.94-2.06 2.06-.94-2.06-.94-.94-2.06-.94 2.06-2.06.94zm-11 1L8.5 8.5l.94-2.06 2.06-.94-2.06-.94L8.5 2.5l-.94 2.06-2.06.94zm10 10l.94 2.06.94-2.06 2.06-.94-2.06-.94-.94-2.06-.94 2.06-2.06.94z\"/><path d=\"M17.41 7.96l-1.37-1.37c-.4-.4-.92-.59-1.43-.59-.52 0-1.04.2-1.43.59L10.3 9.45l-7.72 7.72c-.78.78-.78 2.05 0 2.83L4 21.41c.39.39.9.59 1.41.59.51 0 1.02-.2 1.41-.59l7.78-7.78 2.81-2.81c.8-.78.8-2.07 0-2.86zM5.41 20L4 18.59l7.72-7.72 1.47 1.35L5.41 20z\"/>\n",
              "  </svg>\n",
              "      </button>\n",
              "      \n",
              "  <style>\n",
              "    .colab-df-container {\n",
              "      display:flex;\n",
              "      flex-wrap:wrap;\n",
              "      gap: 12px;\n",
              "    }\n",
              "\n",
              "    .colab-df-convert {\n",
              "      background-color: #E8F0FE;\n",
              "      border: none;\n",
              "      border-radius: 50%;\n",
              "      cursor: pointer;\n",
              "      display: none;\n",
              "      fill: #1967D2;\n",
              "      height: 32px;\n",
              "      padding: 0 0 0 0;\n",
              "      width: 32px;\n",
              "    }\n",
              "\n",
              "    .colab-df-convert:hover {\n",
              "      background-color: #E2EBFA;\n",
              "      box-shadow: 0px 1px 2px rgba(60, 64, 67, 0.3), 0px 1px 3px 1px rgba(60, 64, 67, 0.15);\n",
              "      fill: #174EA6;\n",
              "    }\n",
              "\n",
              "    [theme=dark] .colab-df-convert {\n",
              "      background-color: #3B4455;\n",
              "      fill: #D2E3FC;\n",
              "    }\n",
              "\n",
              "    [theme=dark] .colab-df-convert:hover {\n",
              "      background-color: #434B5C;\n",
              "      box-shadow: 0px 1px 3px 1px rgba(0, 0, 0, 0.15);\n",
              "      filter: drop-shadow(0px 1px 2px rgba(0, 0, 0, 0.3));\n",
              "      fill: #FFFFFF;\n",
              "    }\n",
              "  </style>\n",
              "\n",
              "      <script>\n",
              "        const buttonEl =\n",
              "          document.querySelector('#df-d5a94721-a17c-4a34-a5a4-102fbde0300e button.colab-df-convert');\n",
              "        buttonEl.style.display =\n",
              "          google.colab.kernel.accessAllowed ? 'block' : 'none';\n",
              "\n",
              "        async function convertToInteractive(key) {\n",
              "          const element = document.querySelector('#df-d5a94721-a17c-4a34-a5a4-102fbde0300e');\n",
              "          const dataTable =\n",
              "            await google.colab.kernel.invokeFunction('convertToInteractive',\n",
              "                                                     [key], {});\n",
              "          if (!dataTable) return;\n",
              "\n",
              "          const docLinkHtml = 'Like what you see? Visit the ' +\n",
              "            '<a target=\"_blank\" href=https://colab.research.google.com/notebooks/data_table.ipynb>data table notebook</a>'\n",
              "            + ' to learn more about interactive tables.';\n",
              "          element.innerHTML = '';\n",
              "          dataTable['output_type'] = 'display_data';\n",
              "          await google.colab.output.renderOutput(dataTable, element);\n",
              "          const docLink = document.createElement('div');\n",
              "          docLink.innerHTML = docLinkHtml;\n",
              "          element.appendChild(docLink);\n",
              "        }\n",
              "      </script>\n",
              "    </div>\n",
              "  </div>\n",
              "  "
            ]
          },
          "metadata": {},
          "execution_count": 54
        }
      ]
    },
    {
      "cell_type": "code",
      "source": [
        "from tqdm import tqdm"
      ],
      "metadata": {
        "id": "LYx9BF6pbbSV"
      },
      "execution_count": null,
      "outputs": []
    },
    {
      "cell_type": "code",
      "source": [
        "def precision(n_samples):\n",
        "    K = 10\n",
        "    pre = [] # 사용자별 precision\n",
        "    for user in tqdm(user_list[:n_samples]):\n",
        "        a = df_users.loc[(df_users['user_id']==user) &\n",
        "                     (df_users['product_id'].isin(best)) &\n",
        "                     (df_users['events'].str.contains('purchase')), \"product_id\"].nunique()\n",
        "        pre.append(a / K)\n",
        "\n",
        "    return np.mean(pre)"
      ],
      "metadata": {
        "id": "zI2nuMCkKJAW"
      },
      "execution_count": null,
      "outputs": []
    },
    {
      "cell_type": "markdown",
      "source": [
        "- 구매 이력이 없는 애들은 평가가 불가능하다. 과거 (취향) 걍 냅다 베스트셀러를 추천한다.  \n",
        "- 구매 이력이 있는 애들은 베이스라인을 베스트셀러로 잡고 lightfm 적용해서 precision 비교한다"
      ],
      "metadata": {
        "id": "raDofS10TU9p"
      }
    },
    {
      "cell_type": "code",
      "source": [
        "precision(1000)"
      ],
      "metadata": {
        "colab": {
          "base_uri": "https://localhost:8080/"
        },
        "id": "eeGqY-cNSQyV",
        "outputId": "05d92bfe-6f54-4b66-fd2b-6d7f66e18c55"
      },
      "execution_count": null,
      "outputs": [
        {
          "output_type": "stream",
          "name": "stderr",
          "text": [
            "100%|██████████| 1000/1000 [1:23:34<00:00,  5.01s/it]\n"
          ]
        },
        {
          "output_type": "execute_result",
          "data": {
            "text/plain": [
              "0.0"
            ]
          },
          "metadata": {},
          "execution_count": 83
        }
      ]
    },
    {
      "cell_type": "markdown",
      "source": [
        "- 이거는 정확도 측정을 못해서 baseline 으로 쓸 수 없나?"
      ],
      "metadata": {
        "id": "uPDFFgpiO5WD"
      }
    },
    {
      "cell_type": "code",
      "source": [
        "k = 20\n",
        "\n",
        "# training data에 user가 없는 경우엔 추천이 안되므로 인기도 기반 추천 리스트를 미리 만들어 놓는다.\n",
        "popular_item_at_k = list(train_df.groupby('item_id')['Quantity'].sum().sort_values(ascending=False)[:k].index)\n",
        "\n",
        "precisions = []\n",
        "recalls = []\n",
        "\n",
        "# 사용자 별로 Top N 추천을 하여 사용자 별 precision recall을 구한다.\n",
        "\n",
        "cold_start = 0\n",
        "user_grouped = test_df.groupby('user_id')\n",
        "\n",
        "for user_id, user_df in user_grouped:\n",
        "\n",
        "    # test 데이터에 존재하는 사용자가 이미 구매한 아이템 = 정답\n",
        "    buy_items = [stock_code_map[stock_code] if stock_code in stock_code_map else stock_code \\\n",
        "                 for stock_code in user_df['StockCode'].unique()]\n",
        "\n",
        "    if customer_id in customer_id_map:\n",
        "        user_id = customer_id_map[customer_id]\n",
        "        user_vector = model.user_factors[user_id]\n",
        "        scores = item_vecs.dot(user_vector)\n",
        "        top_k_item = np.argpartition(scores, -k)[-k:]\n",
        "\n",
        "        # 모델에서 top k 아이템을 선정하는 함수를 이미 제공함\n",
        "        # top_k_item = [item for item, _ in model1.recommend(user_id, sparse_user_item.T, k, filter_already_liked_items=False)]\n",
        "\n",
        "    else:\n",
        "        cold_start += 1\n",
        "        top_k_item = popular_item_at_k\n",
        "\n",
        "    intersect = set(buy_items).intersection(set(top_k_item))\n",
        "\n",
        "    precision = len(intersect)/len(top_k_item)\n",
        "    recall = len(intersect)/len(buy_items)\n",
        "\n",
        "    precisions.append(precision)\n",
        "    recalls.append(recall)\n",
        "print('\\n')\n",
        "print('precision@k:', np.mean(np.asarray(precisions)))\n",
        "print('recall@k:', np.mean(np.asarray(recalls)))"
      ],
      "metadata": {
        "id": "fTKaKkUiRzxI"
      },
      "execution_count": null,
      "outputs": []
    },
    {
      "cell_type": "markdown",
      "source": [
        "# LightFM Model"
      ],
      "metadata": {
        "id": "DecbVLTIy7yB"
      }
    },
    {
      "cell_type": "code",
      "source": [
        "# !pip install lightfm"
      ],
      "metadata": {
        "id": "7U0gXT6aY5Y3"
      },
      "execution_count": 3,
      "outputs": []
    },
    {
      "cell_type": "code",
      "source": [
        "# import lightfm\n",
        "from lightfm.data import Dataset\n",
        "from lightfm import LightFM\n",
        "from lightfm import cross_validation\n",
        "from lightfm.evaluation import precision_at_k as lightfm_prec_at_k\n",
        "\n",
        "\n",
        "import warnings\n",
        "warnings.filterwarnings('ignore')"
      ],
      "metadata": {
        "id": "fygrKLu6zLa3"
      },
      "execution_count": null,
      "outputs": []
    },
    {
      "cell_type": "code",
      "source": [
        "## generating features list for mapping ##\n",
        "\n",
        "# items_features_list\n",
        "i_features = df_items[['category']].apply(\n",
        "    lambda x: ','.join(x.map(str)), axis=1)\n",
        "i_features = i_features.str.split(',')\n",
        "i_features = i_features.apply(pd.Series).stack().reset_index(drop=True)\n",
        "\n",
        "items_features_list = i_features\n",
        "\n",
        "# users_features_list\n",
        "u_features = df_users[['events']].apply(\n",
        "    lambda x: ','.join(x.map(str)), axis=1)\n",
        "u_features = u_features.str.split(',')\n",
        "u_features = u_features.apply(pd.Series).stack().reset_index(drop=True)\n",
        "\n",
        "users_features_list = u_features"
      ],
      "metadata": {
        "id": "1c-K4cxK6j2K"
      },
      "execution_count": null,
      "outputs": []
    },
    {
      "cell_type": "code",
      "source": [
        "## save items/users_features_list ##\n",
        "# df_items_features = pd.DataFrame(items_features_list)\n",
        "# df_users_features = pd.DataFrame(users_features_list)\n",
        "\n",
        "# df_items_features.rename(columns={0:'features_list'}, inplace=True)\n",
        "# df_users_features.rename(columns={0:'features_list'}, inplace=True)\n",
        "\n",
        "# df_items_features.to_parquet('/content/drive/MyDrive/MyCP2/df_items_features.parquet')\n",
        "# df_users_features.to_parquet('/content/drive/MyDrive/MyCP2/df_users_features.parquet')"
      ],
      "metadata": {
        "id": "3hGyqOetquax"
      },
      "execution_count": null,
      "outputs": []
    },
    {
      "cell_type": "code",
      "source": [
        "path4 = '/content/drive/MyDrive/MyCP2/df_items_features.parquet'\n",
        "path5 = '/content/drive/MyDrive/MyCP2/df_users_features.parquet'\n",
        "\n",
        "df_items_features = pd.read_parquet(path4, engine='fastparquet')\n",
        "df_users_features = pd.read_parquet(path5, engine='fastparquet')\n",
        "\n",
        "users_features_list = pd.Series(df_users_features['features_list'])\n",
        "items_features_list = pd.Series(df_items_features['features_list'])"
      ],
      "metadata": {
        "id": "R16VmVcELR8e"
      },
      "execution_count": null,
      "outputs": []
    },
    {
      "cell_type": "code",
      "source": [
        "# users_features_list"
      ],
      "metadata": {
        "colab": {
          "base_uri": "https://localhost:8080/"
        },
        "id": "3dDAsTAmMFBp",
        "outputId": "54ec1881-a6e7-4594-b4cd-bfc2fd21eb2e"
      },
      "execution_count": null,
      "outputs": [
        {
          "output_type": "execute_result",
          "data": {
            "text/plain": [
              "0           view\n",
              "1           view\n",
              "2           view\n",
              "3           view\n",
              "4           view\n",
              "            ... \n",
              "14363478    view\n",
              "14363479    view\n",
              "14363480    view\n",
              "14363481    view\n",
              "14363482    view\n",
              "Name: features_list, Length: 14363483, dtype: object"
            ]
          },
          "metadata": {},
          "execution_count": 14
        }
      ]
    },
    {
      "cell_type": "code",
      "source": [
        "# items_features_list"
      ],
      "metadata": {
        "colab": {
          "base_uri": "https://localhost:8080/"
        },
        "id": "8s6wg9pIL5iz",
        "outputId": "d6600e00-eb15-49d5-a591-965dd471ee8d"
      },
      "execution_count": null,
      "outputs": [
        {
          "output_type": "execute_result",
          "data": {
            "text/plain": [
              "0          appliances\n",
              "1         environment\n",
              "2          air_heater\n",
              "3                 NaN\n",
              "4                 NaN\n",
              "             ...     \n",
              "396979            NaN\n",
              "396980            NaN\n",
              "396981            NaN\n",
              "396982            NaN\n",
              "396983            NaN\n",
              "Name: features_list, Length: 396984, dtype: object"
            ]
          },
          "metadata": {},
          "execution_count": 13
        }
      ]
    },
    {
      "cell_type": "code",
      "source": [
        "# create an instance of Dataset which holds the interaction matrix\n",
        "dataset = Dataset()\n",
        "\n",
        "# create the user/item id mappings\n",
        "# fit(users, items, user_features=None, item_features=None)\n",
        "dataset.fit(\n",
        "    set(df_users['users_id_num']),\n",
        "    set(df_items['items_id_num']),\n",
        "    user_features=users_features_list,\n",
        "    item_features=items_features_list) # 여기서 중요한 것은, 이 때 argument로 들어가는 객체에 결측값은 없어야 한다\n",
        "\n",
        "\n",
        "# build interactions\n",
        "# returns 2 COO sparse matrices, interations and weights\n",
        "interactions, weights = dataset.build_interactions(df['items_users_id_tuple'])\n",
        "\n",
        "# build item/user features\n",
        "items_features = dataset.build_item_features(df_items['items_features'])\n",
        "users_features = dataset.build_user_features(df_users['users_features'])"
      ],
      "metadata": {
        "id": "qmPIYMN_Zn4n"
      },
      "execution_count": null,
      "outputs": []
    },
    {
      "cell_type": "code",
      "source": [
        "# interactions"
      ],
      "metadata": {
        "colab": {
          "base_uri": "https://localhost:8080/"
        },
        "id": "S6-7Hkp8Xr5S",
        "outputId": "b1b43518-131f-4c43-ee66-90ca9b9b9ffc"
      },
      "execution_count": null,
      "outputs": [
        {
          "output_type": "execute_result",
          "data": {
            "text/plain": [
              "<2042292x132328 sparse matrix of type '<class 'numpy.int32'>'\n",
              "\twith 24358206 stored elements in COOrdinate format>"
            ]
          },
          "metadata": {},
          "execution_count": 104
        }
      ]
    },
    {
      "cell_type": "code",
      "source": [
        "# users_features"
      ],
      "metadata": {
        "colab": {
          "base_uri": "https://localhost:8080/"
        },
        "id": "glPoNNyFYHfB",
        "outputId": "9d568a06-0ec2-4915-c15a-f055122684aa"
      },
      "execution_count": null,
      "outputs": [
        {
          "output_type": "execute_result",
          "data": {
            "text/plain": [
              "<2042292x2042295 sparse matrix of type '<class 'numpy.float32'>'\n",
              "\twith 4404168 stored elements in Compressed Sparse Row format>"
            ]
          },
          "metadata": {},
          "execution_count": 102
        }
      ]
    },
    {
      "cell_type": "code",
      "source": [
        "# items_features"
      ],
      "metadata": {
        "colab": {
          "base_uri": "https://localhost:8080/"
        },
        "id": "ahARsytkYDLZ",
        "outputId": "1c678225-f2b2-4a45-edc8-1a21654d46a1"
      },
      "execution_count": null,
      "outputs": [
        {
          "output_type": "execute_result",
          "data": {
            "text/plain": [
              "<132328x132436 sparse matrix of type '<class 'numpy.float32'>'\n",
              "\twith 342928 stored elements in Compressed Sparse Row format>"
            ]
          },
          "metadata": {},
          "execution_count": 106
        }
      ]
    },
    {
      "cell_type": "code",
      "source": [
        "df.head(1)"
      ],
      "metadata": {
        "colab": {
          "base_uri": "https://localhost:8080/",
          "height": 162
        },
        "id": "jwMiruHUW748",
        "outputId": "0f61c2e3-9176-47e4-9373-1a13fc7a16a2"
      },
      "execution_count": null,
      "outputs": [
        {
          "output_type": "execute_result",
          "data": {
            "text/plain": [
              "                 event_time event_type  product_id category_id   brand  \\\n",
              "0 2019-10-02 00:00:00+04:00       view     6200670  -813694761  luxell   \n",
              "\n",
              "       price    user_id main_category sub_category sub_sub_category  \\\n",
              "0  39.369999  516364071    appliances  environment       air_heater   \n",
              "\n",
              "   users_id_num  items_id_num items_users_id_tuple  \n",
              "0             0             0               [0, 0]  "
            ],
            "text/html": [
              "\n",
              "  <div id=\"df-8de7e782-cb4e-4959-824a-2a682d9c85e2\">\n",
              "    <div class=\"colab-df-container\">\n",
              "      <div>\n",
              "<style scoped>\n",
              "    .dataframe tbody tr th:only-of-type {\n",
              "        vertical-align: middle;\n",
              "    }\n",
              "\n",
              "    .dataframe tbody tr th {\n",
              "        vertical-align: top;\n",
              "    }\n",
              "\n",
              "    .dataframe thead th {\n",
              "        text-align: right;\n",
              "    }\n",
              "</style>\n",
              "<table border=\"1\" class=\"dataframe\">\n",
              "  <thead>\n",
              "    <tr style=\"text-align: right;\">\n",
              "      <th></th>\n",
              "      <th>event_time</th>\n",
              "      <th>event_type</th>\n",
              "      <th>product_id</th>\n",
              "      <th>category_id</th>\n",
              "      <th>brand</th>\n",
              "      <th>price</th>\n",
              "      <th>user_id</th>\n",
              "      <th>main_category</th>\n",
              "      <th>sub_category</th>\n",
              "      <th>sub_sub_category</th>\n",
              "      <th>users_id_num</th>\n",
              "      <th>items_id_num</th>\n",
              "      <th>items_users_id_tuple</th>\n",
              "    </tr>\n",
              "  </thead>\n",
              "  <tbody>\n",
              "    <tr>\n",
              "      <th>0</th>\n",
              "      <td>2019-10-02 00:00:00+04:00</td>\n",
              "      <td>view</td>\n",
              "      <td>6200670</td>\n",
              "      <td>-813694761</td>\n",
              "      <td>luxell</td>\n",
              "      <td>39.369999</td>\n",
              "      <td>516364071</td>\n",
              "      <td>appliances</td>\n",
              "      <td>environment</td>\n",
              "      <td>air_heater</td>\n",
              "      <td>0</td>\n",
              "      <td>0</td>\n",
              "      <td>[0, 0]</td>\n",
              "    </tr>\n",
              "  </tbody>\n",
              "</table>\n",
              "</div>\n",
              "      <button class=\"colab-df-convert\" onclick=\"convertToInteractive('df-8de7e782-cb4e-4959-824a-2a682d9c85e2')\"\n",
              "              title=\"Convert this dataframe to an interactive table.\"\n",
              "              style=\"display:none;\">\n",
              "        \n",
              "  <svg xmlns=\"http://www.w3.org/2000/svg\" height=\"24px\"viewBox=\"0 0 24 24\"\n",
              "       width=\"24px\">\n",
              "    <path d=\"M0 0h24v24H0V0z\" fill=\"none\"/>\n",
              "    <path d=\"M18.56 5.44l.94 2.06.94-2.06 2.06-.94-2.06-.94-.94-2.06-.94 2.06-2.06.94zm-11 1L8.5 8.5l.94-2.06 2.06-.94-2.06-.94L8.5 2.5l-.94 2.06-2.06.94zm10 10l.94 2.06.94-2.06 2.06-.94-2.06-.94-.94-2.06-.94 2.06-2.06.94z\"/><path d=\"M17.41 7.96l-1.37-1.37c-.4-.4-.92-.59-1.43-.59-.52 0-1.04.2-1.43.59L10.3 9.45l-7.72 7.72c-.78.78-.78 2.05 0 2.83L4 21.41c.39.39.9.59 1.41.59.51 0 1.02-.2 1.41-.59l7.78-7.78 2.81-2.81c.8-.78.8-2.07 0-2.86zM5.41 20L4 18.59l7.72-7.72 1.47 1.35L5.41 20z\"/>\n",
              "  </svg>\n",
              "      </button>\n",
              "      \n",
              "  <style>\n",
              "    .colab-df-container {\n",
              "      display:flex;\n",
              "      flex-wrap:wrap;\n",
              "      gap: 12px;\n",
              "    }\n",
              "\n",
              "    .colab-df-convert {\n",
              "      background-color: #E8F0FE;\n",
              "      border: none;\n",
              "      border-radius: 50%;\n",
              "      cursor: pointer;\n",
              "      display: none;\n",
              "      fill: #1967D2;\n",
              "      height: 32px;\n",
              "      padding: 0 0 0 0;\n",
              "      width: 32px;\n",
              "    }\n",
              "\n",
              "    .colab-df-convert:hover {\n",
              "      background-color: #E2EBFA;\n",
              "      box-shadow: 0px 1px 2px rgba(60, 64, 67, 0.3), 0px 1px 3px 1px rgba(60, 64, 67, 0.15);\n",
              "      fill: #174EA6;\n",
              "    }\n",
              "\n",
              "    [theme=dark] .colab-df-convert {\n",
              "      background-color: #3B4455;\n",
              "      fill: #D2E3FC;\n",
              "    }\n",
              "\n",
              "    [theme=dark] .colab-df-convert:hover {\n",
              "      background-color: #434B5C;\n",
              "      box-shadow: 0px 1px 3px 1px rgba(0, 0, 0, 0.15);\n",
              "      filter: drop-shadow(0px 1px 2px rgba(0, 0, 0, 0.3));\n",
              "      fill: #FFFFFF;\n",
              "    }\n",
              "  </style>\n",
              "\n",
              "      <script>\n",
              "        const buttonEl =\n",
              "          document.querySelector('#df-8de7e782-cb4e-4959-824a-2a682d9c85e2 button.colab-df-convert');\n",
              "        buttonEl.style.display =\n",
              "          google.colab.kernel.accessAllowed ? 'block' : 'none';\n",
              "\n",
              "        async function convertToInteractive(key) {\n",
              "          const element = document.querySelector('#df-8de7e782-cb4e-4959-824a-2a682d9c85e2');\n",
              "          const dataTable =\n",
              "            await google.colab.kernel.invokeFunction('convertToInteractive',\n",
              "                                                     [key], {});\n",
              "          if (!dataTable) return;\n",
              "\n",
              "          const docLinkHtml = 'Like what you see? Visit the ' +\n",
              "            '<a target=\"_blank\" href=https://colab.research.google.com/notebooks/data_table.ipynb>data table notebook</a>'\n",
              "            + ' to learn more about interactive tables.';\n",
              "          element.innerHTML = '';\n",
              "          dataTable['output_type'] = 'display_data';\n",
              "          await google.colab.output.renderOutput(dataTable, element);\n",
              "          const docLink = document.createElement('div');\n",
              "          docLink.innerHTML = docLinkHtml;\n",
              "          element.appendChild(docLink);\n",
              "        }\n",
              "      </script>\n",
              "    </div>\n",
              "  </div>\n",
              "  "
            ]
          },
          "metadata": {},
          "execution_count": 93
        }
      ]
    },
    {
      "cell_type": "code",
      "source": [
        "# the number of unique users/items\n",
        "num_users, num_items = dataset.interactions_shape()\n",
        "print(f'Num users: {num_users}, num_items: {num_items}')"
      ],
      "metadata": {
        "colab": {
          "base_uri": "https://localhost:8080/"
        },
        "id": "D9C7Z8vUgzCo",
        "outputId": "05b7d94e-b3df-4d60-ee0e-03a7a01498c8"
      },
      "execution_count": null,
      "outputs": [
        {
          "output_type": "stream",
          "name": "stdout",
          "text": [
            "Num users: 2042292, num_items: 132328\n"
          ]
        }
      ]
    },
    {
      "cell_type": "markdown",
      "source": [
        "# Train, Test Set Split"
      ],
      "metadata": {
        "id": "AWhbdcpc0RXq"
      }
    },
    {
      "cell_type": "markdown",
      "source": [
        "- 보통 과거 데이터를 가지고 미래 데이터를 예측하기 때문에, 특정한 시간을 기준으로 전후 데이터를 train / test 데이터로 나눈다.\n",
        "- 특히 커머스 데이터와 같은 경우, 같은 상품을 다시 구매할 수 있기 때문에 이미 구매한 상품을 다시 추천하기도 한다.\n",
        "- 하지만 여기서는 시간을 고려하지 않고 랜덤하게 학습, 테스트 셋을 추출한다.\n",
        "    - 시계열이 아닌 이유:\n",
        "        1. user별 view, cart, purchase 여부를 확인하고 한 행으로 묶음\n",
        "    - product는 전체 기간에 대한 총 view, cart, purchase 수 컬럼을 만들었지만 모델링에 포함되지 않는 피쳐이므로 괜찮다.  \n",
        "    근데 베스트셀러 추천에는 데이터 누수 문제가 있음"
      ],
      "metadata": {
        "id": "PEsXVFIhPxUR"
      }
    },
    {
      "cell_type": "code",
      "source": [
        "# split train, test set\n",
        "train, test = cross_validation.random_train_test_split(\n",
        "    interactions, test_percentage=0.25,\n",
        "    random_state=42)\n",
        "\n",
        "# check shape\n",
        "print(f\"Shape of train interactions: {train.shape}\")\n",
        "print(f\"Shape of test interactions: {test.shape}\")"
      ],
      "metadata": {
        "colab": {
          "base_uri": "https://localhost:8080/"
        },
        "id": "J-GtPBIfhQLn",
        "outputId": "b2f802ce-7ba4-403d-ad6b-d7c505b28624"
      },
      "execution_count": null,
      "outputs": [
        {
          "output_type": "stream",
          "name": "stdout",
          "text": [
            "Shape of train interactions: (2042292, 132328)\n",
            "Shape of test interactions: (2042292, 132328)\n"
          ]
        }
      ]
    },
    {
      "cell_type": "code",
      "source": [
        "model_train = LightFM(\n",
        "    no_components=30,  # latent factor (잠재요인) 을 몇개로 할거냐?\n",
        "    learning_rate=0.05,\n",
        "    loss='warp',\n",
        "    random_state=42)\n",
        "\n",
        "model_train.fit(\n",
        "    interactions=train,\n",
        "    item_features=items_features,\n",
        "    user_features=users_features,\n",
        "    epochs=5,\n",
        "    verbose=True)"
      ],
      "metadata": {
        "colab": {
          "base_uri": "https://localhost:8080/"
        },
        "id": "RtBV0rpuMEpD",
        "outputId": "01924e73-b355-47a7-ced0-b254049c4681"
      },
      "execution_count": null,
      "outputs": [
        {
          "output_type": "stream",
          "name": "stderr",
          "text": [
            "Epoch: 100%|██████████| 5/5 [10:29<00:00, 125.99s/it]\n"
          ]
        },
        {
          "output_type": "execute_result",
          "data": {
            "text/plain": [
              "<lightfm.lightfm.LightFM at 0x7fe79aed7850>"
            ]
          },
          "metadata": {},
          "execution_count": 8
        }
      ]
    },
    {
      "cell_type": "markdown",
      "source": [
        "# 모델 저장"
      ],
      "metadata": {
        "id": "PmEKo9usVedd"
      }
    },
    {
      "cell_type": "code",
      "source": [
        "# # save the model\n",
        "# import pickle\n",
        "\n",
        "# with open('/content/drive/MyDrive/MyCP2/LightFM_temp.pkl','wb') as fw:\n",
        "#     pickle.dump(model, fw)\n",
        "\n",
        "# # load the model\n",
        "# with open('/content/drive/MyDrive/MyCP2/LightFM_temp.pkl', 'rb') as f:\n",
        "#     model = pickle.load(f)"
      ],
      "metadata": {
        "id": "ODJPgPQLN46r"
      },
      "execution_count": null,
      "outputs": []
    },
    {
      "cell_type": "markdown",
      "source": [
        "# LightFM Evaluation"
      ],
      "metadata": {
        "id": "QhErrZlJLxKZ"
      }
    },
    {
      "cell_type": "code",
      "source": [
        "K = 10\n",
        "\n",
        "precision_lfm_test = lightfm_prec_at_k(model_train, test, k=K, item_features=items_features, user_features=users_features).mean()"
      ],
      "metadata": {
        "id": "Omp8SOynMBVF"
      },
      "execution_count": null,
      "outputs": []
    },
    {
      "cell_type": "code",
      "source": [
        "precision_lfm_test"
      ],
      "metadata": {
        "colab": {
          "base_uri": "https://localhost:8080/"
        },
        "id": "u9YNpdJ5M8Nk",
        "outputId": "77601546-bec1-4c80-c888-b1e003e08b23"
      },
      "execution_count": null,
      "outputs": [
        {
          "output_type": "execute_result",
          "data": {
            "text/plain": [
              "0.014344113"
            ]
          },
          "metadata": {},
          "execution_count": 10
        }
      ]
    },
    {
      "cell_type": "markdown",
      "source": [
        "# LightFM Recommendation System"
      ],
      "metadata": {
        "id": "6cP-VnJFOYSx"
      }
    },
    {
      "cell_type": "code",
      "source": [
        "from IPython.display import display_html\n",
        "\n",
        "def display_side_by_side(*args):\n",
        "    html_str=''\n",
        "    for df in args:\n",
        "        html_str+=df.to_html()\n",
        "    display_html(html_str.replace('table','table style=\"display:inline\"'), raw=True)"
      ],
      "metadata": {
        "id": "dhcNqPD2XFFg"
      },
      "execution_count": null,
      "outputs": []
    },
    {
      "cell_type": "code",
      "source": [
        "def recommend_product(user_id):\n",
        "\n",
        "    for user in user_id:\n",
        "\n",
        "        # user가 이전에 샀던 item의 product_id\n",
        "        if (df['user_id'] == user) & (df['event_type'] == 'purchase'):\n",
        "            purchased_items_id = df.loc[(df['user_id'] == user) & (df['event_type'] == 'purchase')][:3]['product_id']\n",
        "        elif (df['user_id'] == user) & (df['event_type'] == 'cart'):\n",
        "            purchased_items_id = df.loc[(df['user_id'] == user) & (df['event_type'] == 'cart')][:3]['product_id']\n",
        "        else:\n",
        "            purchased_items_id = df.loc[(df['user_id'] == user) & (df['event_type'] == 'view')][:3]['product_id']\n",
        "\n",
        "        # purchased_items_id = df.loc[(df['user_id'] == user) & (df['event_type'] == 'purchase')][:3]['product_id']\n",
        "        df_items_purchased = df_items.loc[df_items['product_id'].isin(purchased_items_id)]\n",
        "\n",
        "        print('Items purchased by user id:(' + str(user) + ')')\n",
        "\n",
        "        display_side_by_side(\n",
        "            df_items_purchased[['product_id', 'category']],\n",
        "            df_users.loc[df_users['user_id'] == user][['user_id', 'product_id', 'events']])\n",
        "\n",
        "        # predict\n",
        "        discard_items_id = df_items_purchased['items_id_num'].values.tolist()\n",
        "        df_use_for_prediction = df_items.loc[~df_items['items_id_num'].isin(discard_items_id)]\n",
        "        items_id_for_prediction = df_use_for_prediction['items_id_num'].values.tolist()\n",
        "\n",
        "        # score\n",
        "        user_id_num = df.loc[df['user_id'] == user]['users_id_num'].values[0].tolist()\n",
        "\n",
        "        scores = model_train.predict(\n",
        "            user_id_num,\n",
        "            items_id_for_prediction,\n",
        "            item_features=items_features,\n",
        "            user_features=users_features)\n",
        "\n",
        "        df_use_for_prediction['scores'] = scores\n",
        "        df_use_for_prediction = df_use_for_prediction.sort_values(by='scores', ascending=False)[:5]\n",
        "\n",
        "        print('Recommended products for user id:(' + str(user) + ')')\n",
        "\n",
        "        display(df_use_for_prediction[['product_id', 'category']])"
      ],
      "metadata": {
        "id": "My6VlC6UWm1o"
      },
      "execution_count": null,
      "outputs": []
    },
    {
      "cell_type": "code",
      "source": [
        "recommend_product([566232270, 566236063])"
      ],
      "metadata": {
        "colab": {
          "base_uri": "https://localhost:8080/",
          "height": 688
        },
        "id": "umEUK5upd_o-",
        "outputId": "1db26909-f8d7-4332-963c-2d8de7352fdb"
      },
      "execution_count": null,
      "outputs": [
        {
          "output_type": "stream",
          "name": "stdout",
          "text": [
            "Items purchased by user id:(566232270)\n"
          ]
        },
        {
          "output_type": "display_data",
          "data": {
            "text/html": [
              "<table style=\"display:inline\" border=\"1\" class=\"dataframe\">\n",
              "  <thead>\n",
              "    <tr style=\"text-align: right;\">\n",
              "      <th></th>\n",
              "      <th>product_id</th>\n",
              "      <th>category</th>\n",
              "    </tr>\n",
              "  </thead>\n",
              "  <tbody>\n",
              "    <tr>\n",
              "      <th>185</th>\n",
              "      <td>1801690</td>\n",
              "      <td>electronics,video,tv</td>\n",
              "    </tr>\n",
              "  </tbody>\n",
              "</table style=\"display:inline\"><table style=\"display:inline\" border=\"1\" class=\"dataframe\">\n",
              "  <thead>\n",
              "    <tr style=\"text-align: right;\">\n",
              "      <th></th>\n",
              "      <th>user_id</th>\n",
              "      <th>events</th>\n",
              "    </tr>\n",
              "  </thead>\n",
              "  <tbody>\n",
              "    <tr>\n",
              "      <th>13924181</th>\n",
              "      <td>566232270</td>\n",
              "      <td>view,cart,purchase</td>\n",
              "    </tr>\n",
              "  </tbody>\n",
              "</table style=\"display:inline\">"
            ]
          },
          "metadata": {}
        },
        {
          "output_type": "stream",
          "name": "stdout",
          "text": [
            "Recommended products for user id:(566232270)\n"
          ]
        },
        {
          "output_type": "display_data",
          "data": {
            "text/plain": [
              "     product_id                     category\n",
              "205     4804056  electronics,audio,headphone\n",
              "51      5100816                  NaN,NaN,NaN\n",
              "128     4804295  electronics,audio,headphone\n",
              "676     4804055  electronics,audio,headphone\n",
              "37      1801766         electronics,video,tv"
            ],
            "text/html": [
              "\n",
              "  <div id=\"df-d6fad577-625d-4846-b72e-a4a7a505f6b3\">\n",
              "    <div class=\"colab-df-container\">\n",
              "      <div>\n",
              "<style scoped>\n",
              "    .dataframe tbody tr th:only-of-type {\n",
              "        vertical-align: middle;\n",
              "    }\n",
              "\n",
              "    .dataframe tbody tr th {\n",
              "        vertical-align: top;\n",
              "    }\n",
              "\n",
              "    .dataframe thead th {\n",
              "        text-align: right;\n",
              "    }\n",
              "</style>\n",
              "<table border=\"1\" class=\"dataframe\">\n",
              "  <thead>\n",
              "    <tr style=\"text-align: right;\">\n",
              "      <th></th>\n",
              "      <th>product_id</th>\n",
              "      <th>category</th>\n",
              "    </tr>\n",
              "  </thead>\n",
              "  <tbody>\n",
              "    <tr>\n",
              "      <th>205</th>\n",
              "      <td>4804056</td>\n",
              "      <td>electronics,audio,headphone</td>\n",
              "    </tr>\n",
              "    <tr>\n",
              "      <th>51</th>\n",
              "      <td>5100816</td>\n",
              "      <td>NaN,NaN,NaN</td>\n",
              "    </tr>\n",
              "    <tr>\n",
              "      <th>128</th>\n",
              "      <td>4804295</td>\n",
              "      <td>electronics,audio,headphone</td>\n",
              "    </tr>\n",
              "    <tr>\n",
              "      <th>676</th>\n",
              "      <td>4804055</td>\n",
              "      <td>electronics,audio,headphone</td>\n",
              "    </tr>\n",
              "    <tr>\n",
              "      <th>37</th>\n",
              "      <td>1801766</td>\n",
              "      <td>electronics,video,tv</td>\n",
              "    </tr>\n",
              "  </tbody>\n",
              "</table>\n",
              "</div>\n",
              "      <button class=\"colab-df-convert\" onclick=\"convertToInteractive('df-d6fad577-625d-4846-b72e-a4a7a505f6b3')\"\n",
              "              title=\"Convert this dataframe to an interactive table.\"\n",
              "              style=\"display:none;\">\n",
              "        \n",
              "  <svg xmlns=\"http://www.w3.org/2000/svg\" height=\"24px\"viewBox=\"0 0 24 24\"\n",
              "       width=\"24px\">\n",
              "    <path d=\"M0 0h24v24H0V0z\" fill=\"none\"/>\n",
              "    <path d=\"M18.56 5.44l.94 2.06.94-2.06 2.06-.94-2.06-.94-.94-2.06-.94 2.06-2.06.94zm-11 1L8.5 8.5l.94-2.06 2.06-.94-2.06-.94L8.5 2.5l-.94 2.06-2.06.94zm10 10l.94 2.06.94-2.06 2.06-.94-2.06-.94-.94-2.06-.94 2.06-2.06.94z\"/><path d=\"M17.41 7.96l-1.37-1.37c-.4-.4-.92-.59-1.43-.59-.52 0-1.04.2-1.43.59L10.3 9.45l-7.72 7.72c-.78.78-.78 2.05 0 2.83L4 21.41c.39.39.9.59 1.41.59.51 0 1.02-.2 1.41-.59l7.78-7.78 2.81-2.81c.8-.78.8-2.07 0-2.86zM5.41 20L4 18.59l7.72-7.72 1.47 1.35L5.41 20z\"/>\n",
              "  </svg>\n",
              "      </button>\n",
              "      \n",
              "  <style>\n",
              "    .colab-df-container {\n",
              "      display:flex;\n",
              "      flex-wrap:wrap;\n",
              "      gap: 12px;\n",
              "    }\n",
              "\n",
              "    .colab-df-convert {\n",
              "      background-color: #E8F0FE;\n",
              "      border: none;\n",
              "      border-radius: 50%;\n",
              "      cursor: pointer;\n",
              "      display: none;\n",
              "      fill: #1967D2;\n",
              "      height: 32px;\n",
              "      padding: 0 0 0 0;\n",
              "      width: 32px;\n",
              "    }\n",
              "\n",
              "    .colab-df-convert:hover {\n",
              "      background-color: #E2EBFA;\n",
              "      box-shadow: 0px 1px 2px rgba(60, 64, 67, 0.3), 0px 1px 3px 1px rgba(60, 64, 67, 0.15);\n",
              "      fill: #174EA6;\n",
              "    }\n",
              "\n",
              "    [theme=dark] .colab-df-convert {\n",
              "      background-color: #3B4455;\n",
              "      fill: #D2E3FC;\n",
              "    }\n",
              "\n",
              "    [theme=dark] .colab-df-convert:hover {\n",
              "      background-color: #434B5C;\n",
              "      box-shadow: 0px 1px 3px 1px rgba(0, 0, 0, 0.15);\n",
              "      filter: drop-shadow(0px 1px 2px rgba(0, 0, 0, 0.3));\n",
              "      fill: #FFFFFF;\n",
              "    }\n",
              "  </style>\n",
              "\n",
              "      <script>\n",
              "        const buttonEl =\n",
              "          document.querySelector('#df-d6fad577-625d-4846-b72e-a4a7a505f6b3 button.colab-df-convert');\n",
              "        buttonEl.style.display =\n",
              "          google.colab.kernel.accessAllowed ? 'block' : 'none';\n",
              "\n",
              "        async function convertToInteractive(key) {\n",
              "          const element = document.querySelector('#df-d6fad577-625d-4846-b72e-a4a7a505f6b3');\n",
              "          const dataTable =\n",
              "            await google.colab.kernel.invokeFunction('convertToInteractive',\n",
              "                                                     [key], {});\n",
              "          if (!dataTable) return;\n",
              "\n",
              "          const docLinkHtml = 'Like what you see? Visit the ' +\n",
              "            '<a target=\"_blank\" href=https://colab.research.google.com/notebooks/data_table.ipynb>data table notebook</a>'\n",
              "            + ' to learn more about interactive tables.';\n",
              "          element.innerHTML = '';\n",
              "          dataTable['output_type'] = 'display_data';\n",
              "          await google.colab.output.renderOutput(dataTable, element);\n",
              "          const docLink = document.createElement('div');\n",
              "          docLink.innerHTML = docLinkHtml;\n",
              "          element.appendChild(docLink);\n",
              "        }\n",
              "      </script>\n",
              "    </div>\n",
              "  </div>\n",
              "  "
            ]
          },
          "metadata": {}
        },
        {
          "output_type": "stream",
          "name": "stdout",
          "text": [
            "Items purchased by user id:(566236063)\n"
          ]
        },
        {
          "output_type": "display_data",
          "data": {
            "text/html": [
              "<table style=\"display:inline\" border=\"1\" class=\"dataframe\">\n",
              "  <thead>\n",
              "    <tr style=\"text-align: right;\">\n",
              "      <th></th>\n",
              "      <th>product_id</th>\n",
              "      <th>category</th>\n",
              "    </tr>\n",
              "  </thead>\n",
              "  <tbody>\n",
              "    <tr>\n",
              "      <th>1261</th>\n",
              "      <td>3700790</td>\n",
              "      <td>appliances,environment,vacuum</td>\n",
              "    </tr>\n",
              "    <tr>\n",
              "      <th>2834</th>\n",
              "      <td>3700823</td>\n",
              "      <td>appliances,environment,vacuum</td>\n",
              "    </tr>\n",
              "    <tr>\n",
              "      <th>4314</th>\n",
              "      <td>10800172</td>\n",
              "      <td>NaN,NaN,NaN</td>\n",
              "    </tr>\n",
              "  </tbody>\n",
              "</table style=\"display:inline\"><table style=\"display:inline\" border=\"1\" class=\"dataframe\">\n",
              "  <thead>\n",
              "    <tr style=\"text-align: right;\">\n",
              "      <th></th>\n",
              "      <th>user_id</th>\n",
              "      <th>events</th>\n",
              "    </tr>\n",
              "  </thead>\n",
              "  <tbody>\n",
              "    <tr>\n",
              "      <th>13924358</th>\n",
              "      <td>566236063</td>\n",
              "      <td>view,cart,purchase</td>\n",
              "    </tr>\n",
              "    <tr>\n",
              "      <th>13924359</th>\n",
              "      <td>566236063</td>\n",
              "      <td>view</td>\n",
              "    </tr>\n",
              "    <tr>\n",
              "      <th>13924360</th>\n",
              "      <td>566236063</td>\n",
              "      <td>view</td>\n",
              "    </tr>\n",
              "    <tr>\n",
              "      <th>13924361</th>\n",
              "      <td>566236063</td>\n",
              "      <td>view</td>\n",
              "    </tr>\n",
              "  </tbody>\n",
              "</table style=\"display:inline\">"
            ]
          },
          "metadata": {}
        },
        {
          "output_type": "stream",
          "name": "stdout",
          "text": [
            "Recommended products for user id:(566236063)\n"
          ]
        },
        {
          "output_type": "display_data",
          "data": {
            "text/plain": [
              "     product_id                       category\n",
              "45      3600661      appliances,kitchen,washer\n",
              "227     3700926  appliances,environment,vacuum\n",
              "205     4804056    electronics,audio,headphone\n",
              "487     3600163      appliances,kitchen,washer\n",
              "92      3600666      appliances,kitchen,washer"
            ],
            "text/html": [
              "\n",
              "  <div id=\"df-b404fbae-f579-4656-9c6b-4c724b3a9b02\">\n",
              "    <div class=\"colab-df-container\">\n",
              "      <div>\n",
              "<style scoped>\n",
              "    .dataframe tbody tr th:only-of-type {\n",
              "        vertical-align: middle;\n",
              "    }\n",
              "\n",
              "    .dataframe tbody tr th {\n",
              "        vertical-align: top;\n",
              "    }\n",
              "\n",
              "    .dataframe thead th {\n",
              "        text-align: right;\n",
              "    }\n",
              "</style>\n",
              "<table border=\"1\" class=\"dataframe\">\n",
              "  <thead>\n",
              "    <tr style=\"text-align: right;\">\n",
              "      <th></th>\n",
              "      <th>product_id</th>\n",
              "      <th>category</th>\n",
              "    </tr>\n",
              "  </thead>\n",
              "  <tbody>\n",
              "    <tr>\n",
              "      <th>45</th>\n",
              "      <td>3600661</td>\n",
              "      <td>appliances,kitchen,washer</td>\n",
              "    </tr>\n",
              "    <tr>\n",
              "      <th>227</th>\n",
              "      <td>3700926</td>\n",
              "      <td>appliances,environment,vacuum</td>\n",
              "    </tr>\n",
              "    <tr>\n",
              "      <th>205</th>\n",
              "      <td>4804056</td>\n",
              "      <td>electronics,audio,headphone</td>\n",
              "    </tr>\n",
              "    <tr>\n",
              "      <th>487</th>\n",
              "      <td>3600163</td>\n",
              "      <td>appliances,kitchen,washer</td>\n",
              "    </tr>\n",
              "    <tr>\n",
              "      <th>92</th>\n",
              "      <td>3600666</td>\n",
              "      <td>appliances,kitchen,washer</td>\n",
              "    </tr>\n",
              "  </tbody>\n",
              "</table>\n",
              "</div>\n",
              "      <button class=\"colab-df-convert\" onclick=\"convertToInteractive('df-b404fbae-f579-4656-9c6b-4c724b3a9b02')\"\n",
              "              title=\"Convert this dataframe to an interactive table.\"\n",
              "              style=\"display:none;\">\n",
              "        \n",
              "  <svg xmlns=\"http://www.w3.org/2000/svg\" height=\"24px\"viewBox=\"0 0 24 24\"\n",
              "       width=\"24px\">\n",
              "    <path d=\"M0 0h24v24H0V0z\" fill=\"none\"/>\n",
              "    <path d=\"M18.56 5.44l.94 2.06.94-2.06 2.06-.94-2.06-.94-.94-2.06-.94 2.06-2.06.94zm-11 1L8.5 8.5l.94-2.06 2.06-.94-2.06-.94L8.5 2.5l-.94 2.06-2.06.94zm10 10l.94 2.06.94-2.06 2.06-.94-2.06-.94-.94-2.06-.94 2.06-2.06.94z\"/><path d=\"M17.41 7.96l-1.37-1.37c-.4-.4-.92-.59-1.43-.59-.52 0-1.04.2-1.43.59L10.3 9.45l-7.72 7.72c-.78.78-.78 2.05 0 2.83L4 21.41c.39.39.9.59 1.41.59.51 0 1.02-.2 1.41-.59l7.78-7.78 2.81-2.81c.8-.78.8-2.07 0-2.86zM5.41 20L4 18.59l7.72-7.72 1.47 1.35L5.41 20z\"/>\n",
              "  </svg>\n",
              "      </button>\n",
              "      \n",
              "  <style>\n",
              "    .colab-df-container {\n",
              "      display:flex;\n",
              "      flex-wrap:wrap;\n",
              "      gap: 12px;\n",
              "    }\n",
              "\n",
              "    .colab-df-convert {\n",
              "      background-color: #E8F0FE;\n",
              "      border: none;\n",
              "      border-radius: 50%;\n",
              "      cursor: pointer;\n",
              "      display: none;\n",
              "      fill: #1967D2;\n",
              "      height: 32px;\n",
              "      padding: 0 0 0 0;\n",
              "      width: 32px;\n",
              "    }\n",
              "\n",
              "    .colab-df-convert:hover {\n",
              "      background-color: #E2EBFA;\n",
              "      box-shadow: 0px 1px 2px rgba(60, 64, 67, 0.3), 0px 1px 3px 1px rgba(60, 64, 67, 0.15);\n",
              "      fill: #174EA6;\n",
              "    }\n",
              "\n",
              "    [theme=dark] .colab-df-convert {\n",
              "      background-color: #3B4455;\n",
              "      fill: #D2E3FC;\n",
              "    }\n",
              "\n",
              "    [theme=dark] .colab-df-convert:hover {\n",
              "      background-color: #434B5C;\n",
              "      box-shadow: 0px 1px 3px 1px rgba(0, 0, 0, 0.15);\n",
              "      filter: drop-shadow(0px 1px 2px rgba(0, 0, 0, 0.3));\n",
              "      fill: #FFFFFF;\n",
              "    }\n",
              "  </style>\n",
              "\n",
              "      <script>\n",
              "        const buttonEl =\n",
              "          document.querySelector('#df-b404fbae-f579-4656-9c6b-4c724b3a9b02 button.colab-df-convert');\n",
              "        buttonEl.style.display =\n",
              "          google.colab.kernel.accessAllowed ? 'block' : 'none';\n",
              "\n",
              "        async function convertToInteractive(key) {\n",
              "          const element = document.querySelector('#df-b404fbae-f579-4656-9c6b-4c724b3a9b02');\n",
              "          const dataTable =\n",
              "            await google.colab.kernel.invokeFunction('convertToInteractive',\n",
              "                                                     [key], {});\n",
              "          if (!dataTable) return;\n",
              "\n",
              "          const docLinkHtml = 'Like what you see? Visit the ' +\n",
              "            '<a target=\"_blank\" href=https://colab.research.google.com/notebooks/data_table.ipynb>data table notebook</a>'\n",
              "            + ' to learn more about interactive tables.';\n",
              "          element.innerHTML = '';\n",
              "          dataTable['output_type'] = 'display_data';\n",
              "          await google.colab.output.renderOutput(dataTable, element);\n",
              "          const docLink = document.createElement('div');\n",
              "          docLink.innerHTML = docLinkHtml;\n",
              "          element.appendChild(docLink);\n",
              "        }\n",
              "      </script>\n",
              "    </div>\n",
              "  </div>\n",
              "  "
            ]
          },
          "metadata": {}
        }
      ]
    },
    {
      "cell_type": "code",
      "source": [
        "# 카트이력 사용자\n",
        "recommend_product([566235051, 371460797])"
      ],
      "metadata": {
        "colab": {
          "base_uri": "https://localhost:8080/",
          "height": 814
        },
        "id": "4O0u4BOFcAbv",
        "outputId": "07c2c212-5180-4266-8988-5d22e00962e0"
      },
      "execution_count": null,
      "outputs": [
        {
          "output_type": "stream",
          "name": "stdout",
          "text": [
            "Items purchased by user id:(566235051)\n"
          ]
        },
        {
          "output_type": "display_data",
          "data": {
            "text/html": [
              "<table style=\"display:inline\" border=\"1\" class=\"dataframe\">\n",
              "  <thead>\n",
              "    <tr style=\"text-align: right;\">\n",
              "      <th></th>\n",
              "      <th>product_id</th>\n",
              "      <th>category</th>\n",
              "    </tr>\n",
              "  </thead>\n",
              "  <tbody>\n",
              "  </tbody>\n",
              "</table style=\"display:inline\"><table style=\"display:inline\" border=\"1\" class=\"dataframe\">\n",
              "  <thead>\n",
              "    <tr style=\"text-align: right;\">\n",
              "      <th></th>\n",
              "      <th>user_id</th>\n",
              "      <th>product_id</th>\n",
              "      <th>events</th>\n",
              "    </tr>\n",
              "  </thead>\n",
              "  <tbody>\n",
              "    <tr>\n",
              "      <th>13924293</th>\n",
              "      <td>566235051</td>\n",
              "      <td>4804295</td>\n",
              "      <td>view,cart</td>\n",
              "    </tr>\n",
              "  </tbody>\n",
              "</table style=\"display:inline\">"
            ]
          },
          "metadata": {}
        },
        {
          "output_type": "stream",
          "name": "stdout",
          "text": [
            "Recommended products for user id:(566235051)\n"
          ]
        },
        {
          "output_type": "display_data",
          "data": {
            "text/plain": [
              "     product_id                     category\n",
              "51      5100816                  NaN,NaN,NaN\n",
              "205     4804056  electronics,audio,headphone\n",
              "185     1801690         electronics,video,tv\n",
              "37      1801766         electronics,video,tv\n",
              "128     4804295  electronics,audio,headphone"
            ],
            "text/html": [
              "\n",
              "  <div id=\"df-2efd71d5-950b-448e-b569-b888d3c42ed1\">\n",
              "    <div class=\"colab-df-container\">\n",
              "      <div>\n",
              "<style scoped>\n",
              "    .dataframe tbody tr th:only-of-type {\n",
              "        vertical-align: middle;\n",
              "    }\n",
              "\n",
              "    .dataframe tbody tr th {\n",
              "        vertical-align: top;\n",
              "    }\n",
              "\n",
              "    .dataframe thead th {\n",
              "        text-align: right;\n",
              "    }\n",
              "</style>\n",
              "<table border=\"1\" class=\"dataframe\">\n",
              "  <thead>\n",
              "    <tr style=\"text-align: right;\">\n",
              "      <th></th>\n",
              "      <th>product_id</th>\n",
              "      <th>category</th>\n",
              "    </tr>\n",
              "  </thead>\n",
              "  <tbody>\n",
              "    <tr>\n",
              "      <th>51</th>\n",
              "      <td>5100816</td>\n",
              "      <td>NaN,NaN,NaN</td>\n",
              "    </tr>\n",
              "    <tr>\n",
              "      <th>205</th>\n",
              "      <td>4804056</td>\n",
              "      <td>electronics,audio,headphone</td>\n",
              "    </tr>\n",
              "    <tr>\n",
              "      <th>185</th>\n",
              "      <td>1801690</td>\n",
              "      <td>electronics,video,tv</td>\n",
              "    </tr>\n",
              "    <tr>\n",
              "      <th>37</th>\n",
              "      <td>1801766</td>\n",
              "      <td>electronics,video,tv</td>\n",
              "    </tr>\n",
              "    <tr>\n",
              "      <th>128</th>\n",
              "      <td>4804295</td>\n",
              "      <td>electronics,audio,headphone</td>\n",
              "    </tr>\n",
              "  </tbody>\n",
              "</table>\n",
              "</div>\n",
              "      <button class=\"colab-df-convert\" onclick=\"convertToInteractive('df-2efd71d5-950b-448e-b569-b888d3c42ed1')\"\n",
              "              title=\"Convert this dataframe to an interactive table.\"\n",
              "              style=\"display:none;\">\n",
              "        \n",
              "  <svg xmlns=\"http://www.w3.org/2000/svg\" height=\"24px\"viewBox=\"0 0 24 24\"\n",
              "       width=\"24px\">\n",
              "    <path d=\"M0 0h24v24H0V0z\" fill=\"none\"/>\n",
              "    <path d=\"M18.56 5.44l.94 2.06.94-2.06 2.06-.94-2.06-.94-.94-2.06-.94 2.06-2.06.94zm-11 1L8.5 8.5l.94-2.06 2.06-.94-2.06-.94L8.5 2.5l-.94 2.06-2.06.94zm10 10l.94 2.06.94-2.06 2.06-.94-2.06-.94-.94-2.06-.94 2.06-2.06.94z\"/><path d=\"M17.41 7.96l-1.37-1.37c-.4-.4-.92-.59-1.43-.59-.52 0-1.04.2-1.43.59L10.3 9.45l-7.72 7.72c-.78.78-.78 2.05 0 2.83L4 21.41c.39.39.9.59 1.41.59.51 0 1.02-.2 1.41-.59l7.78-7.78 2.81-2.81c.8-.78.8-2.07 0-2.86zM5.41 20L4 18.59l7.72-7.72 1.47 1.35L5.41 20z\"/>\n",
              "  </svg>\n",
              "      </button>\n",
              "      \n",
              "  <style>\n",
              "    .colab-df-container {\n",
              "      display:flex;\n",
              "      flex-wrap:wrap;\n",
              "      gap: 12px;\n",
              "    }\n",
              "\n",
              "    .colab-df-convert {\n",
              "      background-color: #E8F0FE;\n",
              "      border: none;\n",
              "      border-radius: 50%;\n",
              "      cursor: pointer;\n",
              "      display: none;\n",
              "      fill: #1967D2;\n",
              "      height: 32px;\n",
              "      padding: 0 0 0 0;\n",
              "      width: 32px;\n",
              "    }\n",
              "\n",
              "    .colab-df-convert:hover {\n",
              "      background-color: #E2EBFA;\n",
              "      box-shadow: 0px 1px 2px rgba(60, 64, 67, 0.3), 0px 1px 3px 1px rgba(60, 64, 67, 0.15);\n",
              "      fill: #174EA6;\n",
              "    }\n",
              "\n",
              "    [theme=dark] .colab-df-convert {\n",
              "      background-color: #3B4455;\n",
              "      fill: #D2E3FC;\n",
              "    }\n",
              "\n",
              "    [theme=dark] .colab-df-convert:hover {\n",
              "      background-color: #434B5C;\n",
              "      box-shadow: 0px 1px 3px 1px rgba(0, 0, 0, 0.15);\n",
              "      filter: drop-shadow(0px 1px 2px rgba(0, 0, 0, 0.3));\n",
              "      fill: #FFFFFF;\n",
              "    }\n",
              "  </style>\n",
              "\n",
              "      <script>\n",
              "        const buttonEl =\n",
              "          document.querySelector('#df-2efd71d5-950b-448e-b569-b888d3c42ed1 button.colab-df-convert');\n",
              "        buttonEl.style.display =\n",
              "          google.colab.kernel.accessAllowed ? 'block' : 'none';\n",
              "\n",
              "        async function convertToInteractive(key) {\n",
              "          const element = document.querySelector('#df-2efd71d5-950b-448e-b569-b888d3c42ed1');\n",
              "          const dataTable =\n",
              "            await google.colab.kernel.invokeFunction('convertToInteractive',\n",
              "                                                     [key], {});\n",
              "          if (!dataTable) return;\n",
              "\n",
              "          const docLinkHtml = 'Like what you see? Visit the ' +\n",
              "            '<a target=\"_blank\" href=https://colab.research.google.com/notebooks/data_table.ipynb>data table notebook</a>'\n",
              "            + ' to learn more about interactive tables.';\n",
              "          element.innerHTML = '';\n",
              "          dataTable['output_type'] = 'display_data';\n",
              "          await google.colab.output.renderOutput(dataTable, element);\n",
              "          const docLink = document.createElement('div');\n",
              "          docLink.innerHTML = docLinkHtml;\n",
              "          element.appendChild(docLink);\n",
              "        }\n",
              "      </script>\n",
              "    </div>\n",
              "  </div>\n",
              "  "
            ]
          },
          "metadata": {}
        },
        {
          "output_type": "stream",
          "name": "stdout",
          "text": [
            "Items purchased by user id:(371460797)\n"
          ]
        },
        {
          "output_type": "display_data",
          "data": {
            "text/html": [
              "<table style=\"display:inline\" border=\"1\" class=\"dataframe\">\n",
              "  <thead>\n",
              "    <tr style=\"text-align: right;\">\n",
              "      <th></th>\n",
              "      <th>product_id</th>\n",
              "      <th>category</th>\n",
              "    </tr>\n",
              "  </thead>\n",
              "  <tbody>\n",
              "  </tbody>\n",
              "</table style=\"display:inline\"><table style=\"display:inline\" border=\"1\" class=\"dataframe\">\n",
              "  <thead>\n",
              "    <tr style=\"text-align: right;\">\n",
              "      <th></th>\n",
              "      <th>user_id</th>\n",
              "      <th>product_id</th>\n",
              "      <th>events</th>\n",
              "    </tr>\n",
              "  </thead>\n",
              "  <tbody>\n",
              "    <tr>\n",
              "      <th>1199</th>\n",
              "      <td>371460797</td>\n",
              "      <td>3700551</td>\n",
              "      <td>view</td>\n",
              "    </tr>\n",
              "    <tr>\n",
              "      <th>1200</th>\n",
              "      <td>371460797</td>\n",
              "      <td>3701016</td>\n",
              "      <td>view,cart</td>\n",
              "    </tr>\n",
              "    <tr>\n",
              "      <th>1201</th>\n",
              "      <td>371460797</td>\n",
              "      <td>3701025</td>\n",
              "      <td>view</td>\n",
              "    </tr>\n",
              "    <tr>\n",
              "      <th>1202</th>\n",
              "      <td>371460797</td>\n",
              "      <td>3701154</td>\n",
              "      <td>view</td>\n",
              "    </tr>\n",
              "    <tr>\n",
              "      <th>1203</th>\n",
              "      <td>371460797</td>\n",
              "      <td>4400404</td>\n",
              "      <td>view</td>\n",
              "    </tr>\n",
              "    <tr>\n",
              "      <th>1204</th>\n",
              "      <td>371460797</td>\n",
              "      <td>4400468</td>\n",
              "      <td>view</td>\n",
              "    </tr>\n",
              "    <tr>\n",
              "      <th>1205</th>\n",
              "      <td>371460797</td>\n",
              "      <td>7100893</td>\n",
              "      <td>view</td>\n",
              "    </tr>\n",
              "    <tr>\n",
              "      <th>1206</th>\n",
              "      <td>371460797</td>\n",
              "      <td>25900025</td>\n",
              "      <td>view</td>\n",
              "    </tr>\n",
              "  </tbody>\n",
              "</table style=\"display:inline\">"
            ]
          },
          "metadata": {}
        },
        {
          "output_type": "stream",
          "name": "stdout",
          "text": [
            "Recommended products for user id:(371460797)\n"
          ]
        },
        {
          "output_type": "display_data",
          "data": {
            "text/plain": [
              "     product_id                       category\n",
              "45      3600661      appliances,kitchen,washer\n",
              "205     4804056    electronics,audio,headphone\n",
              "227     3700926  appliances,environment,vacuum\n",
              "487     3600163      appliances,kitchen,washer\n",
              "92      3600666      appliances,kitchen,washer"
            ],
            "text/html": [
              "\n",
              "  <div id=\"df-3ec1ad25-3697-484f-857a-d1e6b99c5cf8\">\n",
              "    <div class=\"colab-df-container\">\n",
              "      <div>\n",
              "<style scoped>\n",
              "    .dataframe tbody tr th:only-of-type {\n",
              "        vertical-align: middle;\n",
              "    }\n",
              "\n",
              "    .dataframe tbody tr th {\n",
              "        vertical-align: top;\n",
              "    }\n",
              "\n",
              "    .dataframe thead th {\n",
              "        text-align: right;\n",
              "    }\n",
              "</style>\n",
              "<table border=\"1\" class=\"dataframe\">\n",
              "  <thead>\n",
              "    <tr style=\"text-align: right;\">\n",
              "      <th></th>\n",
              "      <th>product_id</th>\n",
              "      <th>category</th>\n",
              "    </tr>\n",
              "  </thead>\n",
              "  <tbody>\n",
              "    <tr>\n",
              "      <th>45</th>\n",
              "      <td>3600661</td>\n",
              "      <td>appliances,kitchen,washer</td>\n",
              "    </tr>\n",
              "    <tr>\n",
              "      <th>205</th>\n",
              "      <td>4804056</td>\n",
              "      <td>electronics,audio,headphone</td>\n",
              "    </tr>\n",
              "    <tr>\n",
              "      <th>227</th>\n",
              "      <td>3700926</td>\n",
              "      <td>appliances,environment,vacuum</td>\n",
              "    </tr>\n",
              "    <tr>\n",
              "      <th>487</th>\n",
              "      <td>3600163</td>\n",
              "      <td>appliances,kitchen,washer</td>\n",
              "    </tr>\n",
              "    <tr>\n",
              "      <th>92</th>\n",
              "      <td>3600666</td>\n",
              "      <td>appliances,kitchen,washer</td>\n",
              "    </tr>\n",
              "  </tbody>\n",
              "</table>\n",
              "</div>\n",
              "      <button class=\"colab-df-convert\" onclick=\"convertToInteractive('df-3ec1ad25-3697-484f-857a-d1e6b99c5cf8')\"\n",
              "              title=\"Convert this dataframe to an interactive table.\"\n",
              "              style=\"display:none;\">\n",
              "        \n",
              "  <svg xmlns=\"http://www.w3.org/2000/svg\" height=\"24px\"viewBox=\"0 0 24 24\"\n",
              "       width=\"24px\">\n",
              "    <path d=\"M0 0h24v24H0V0z\" fill=\"none\"/>\n",
              "    <path d=\"M18.56 5.44l.94 2.06.94-2.06 2.06-.94-2.06-.94-.94-2.06-.94 2.06-2.06.94zm-11 1L8.5 8.5l.94-2.06 2.06-.94-2.06-.94L8.5 2.5l-.94 2.06-2.06.94zm10 10l.94 2.06.94-2.06 2.06-.94-2.06-.94-.94-2.06-.94 2.06-2.06.94z\"/><path d=\"M17.41 7.96l-1.37-1.37c-.4-.4-.92-.59-1.43-.59-.52 0-1.04.2-1.43.59L10.3 9.45l-7.72 7.72c-.78.78-.78 2.05 0 2.83L4 21.41c.39.39.9.59 1.41.59.51 0 1.02-.2 1.41-.59l7.78-7.78 2.81-2.81c.8-.78.8-2.07 0-2.86zM5.41 20L4 18.59l7.72-7.72 1.47 1.35L5.41 20z\"/>\n",
              "  </svg>\n",
              "      </button>\n",
              "      \n",
              "  <style>\n",
              "    .colab-df-container {\n",
              "      display:flex;\n",
              "      flex-wrap:wrap;\n",
              "      gap: 12px;\n",
              "    }\n",
              "\n",
              "    .colab-df-convert {\n",
              "      background-color: #E8F0FE;\n",
              "      border: none;\n",
              "      border-radius: 50%;\n",
              "      cursor: pointer;\n",
              "      display: none;\n",
              "      fill: #1967D2;\n",
              "      height: 32px;\n",
              "      padding: 0 0 0 0;\n",
              "      width: 32px;\n",
              "    }\n",
              "\n",
              "    .colab-df-convert:hover {\n",
              "      background-color: #E2EBFA;\n",
              "      box-shadow: 0px 1px 2px rgba(60, 64, 67, 0.3), 0px 1px 3px 1px rgba(60, 64, 67, 0.15);\n",
              "      fill: #174EA6;\n",
              "    }\n",
              "\n",
              "    [theme=dark] .colab-df-convert {\n",
              "      background-color: #3B4455;\n",
              "      fill: #D2E3FC;\n",
              "    }\n",
              "\n",
              "    [theme=dark] .colab-df-convert:hover {\n",
              "      background-color: #434B5C;\n",
              "      box-shadow: 0px 1px 3px 1px rgba(0, 0, 0, 0.15);\n",
              "      filter: drop-shadow(0px 1px 2px rgba(0, 0, 0, 0.3));\n",
              "      fill: #FFFFFF;\n",
              "    }\n",
              "  </style>\n",
              "\n",
              "      <script>\n",
              "        const buttonEl =\n",
              "          document.querySelector('#df-3ec1ad25-3697-484f-857a-d1e6b99c5cf8 button.colab-df-convert');\n",
              "        buttonEl.style.display =\n",
              "          google.colab.kernel.accessAllowed ? 'block' : 'none';\n",
              "\n",
              "        async function convertToInteractive(key) {\n",
              "          const element = document.querySelector('#df-3ec1ad25-3697-484f-857a-d1e6b99c5cf8');\n",
              "          const dataTable =\n",
              "            await google.colab.kernel.invokeFunction('convertToInteractive',\n",
              "                                                     [key], {});\n",
              "          if (!dataTable) return;\n",
              "\n",
              "          const docLinkHtml = 'Like what you see? Visit the ' +\n",
              "            '<a target=\"_blank\" href=https://colab.research.google.com/notebooks/data_table.ipynb>data table notebook</a>'\n",
              "            + ' to learn more about interactive tables.';\n",
              "          element.innerHTML = '';\n",
              "          dataTable['output_type'] = 'display_data';\n",
              "          await google.colab.output.renderOutput(dataTable, element);\n",
              "          const docLink = document.createElement('div');\n",
              "          docLink.innerHTML = docLinkHtml;\n",
              "          element.appendChild(docLink);\n",
              "        }\n",
              "      </script>\n",
              "    </div>\n",
              "  </div>\n",
              "  "
            ]
          },
          "metadata": {}
        }
      ]
    }
  ]
}